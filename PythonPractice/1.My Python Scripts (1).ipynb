{
 "cells": [
  {
   "cell_type": "code",
   "execution_count": 1,
   "metadata": {},
   "outputs": [
    {
     "name": "stdout",
     "output_type": "stream",
     "text": [
      "20 2018 JA\n"
     ]
    }
   ],
   "source": [
    "a,b,c = 20, 2018, 'JA'\n",
    "print(a,b,c)"
   ]
  },
  {
   "cell_type": "code",
   "execution_count": 2,
   "metadata": {},
   "outputs": [
    {
     "data": {
      "text/plain": [
       "str"
      ]
     },
     "execution_count": 2,
     "metadata": {},
     "output_type": "execute_result"
    }
   ],
   "source": [
    "type(c)"
   ]
  },
  {
   "cell_type": "code",
   "execution_count": 3,
   "metadata": {},
   "outputs": [
    {
     "name": "stdout",
     "output_type": "stream",
     "text": [
      "Enter the speed of the car : 34\n",
      "Average speed\n"
     ]
    }
   ],
   "source": [
    "#If elif\n",
    "Speed = int(input(\"Enter the speed of the car : \"))\n",
    "max_speed = 100\n",
    "avg_speed = 70\n",
    "if Speed > 100:\n",
    "    print('Over Speed')\n",
    "elif Speed < 70 :\n",
    "    print('Average speed')\n",
    "elif Speed > 70 or Speed < 100:\n",
    "    print('High Speed')\n",
    "\n",
    "else:\n",
    "    print(\"Speed Error\")"
   ]
  },
  {
   "cell_type": "code",
   "execution_count": 4,
   "metadata": {},
   "outputs": [
    {
     "name": "stdout",
     "output_type": "stream",
     "text": [
      "H\n",
      "e\n",
      "l\n",
      "l\n",
      "o\n",
      " \n",
      "A\n",
      "l\n",
      "l\n"
     ]
    }
   ],
   "source": [
    "#for\n",
    "s = 'Hello All'\n",
    "for i in s:\n",
    "    print(i)"
   ]
  },
  {
   "cell_type": "code",
   "execution_count": 5,
   "metadata": {},
   "outputs": [
    {
     "name": "stdout",
     "output_type": "stream",
     "text": [
      "['Hello', 'All', '!']\n",
      "['Hello', 'All', '!']\n",
      "['Hello', 'All', '!']\n"
     ]
    }
   ],
   "source": [
    "#for\n",
    "s1 = [\"Hello\",\"All\",\"!\"]\n",
    "for i1 in s1:\n",
    "    print(s1)"
   ]
  },
  {
   "cell_type": "code",
   "execution_count": 6,
   "metadata": {},
   "outputs": [
    {
     "name": "stdout",
     "output_type": "stream",
     "text": [
      "H\n",
      "e\n",
      "l\n",
      "l\n",
      "o\n"
     ]
    }
   ],
   "source": [
    "#for\n",
    "for x in \"Hello\":\n",
    "    print(x)"
   ]
  },
  {
   "cell_type": "code",
   "execution_count": 7,
   "metadata": {},
   "outputs": [
    {
     "name": "stdout",
     "output_type": "stream",
     "text": [
      "Hello\n",
      "All\n"
     ]
    }
   ],
   "source": [
    "#for\n",
    "for x1 in s1[0:2]:\n",
    "    print(x1)"
   ]
  },
  {
   "cell_type": "code",
   "execution_count": 8,
   "metadata": {},
   "outputs": [
    {
     "name": "stdout",
     "output_type": "stream",
     "text": [
      "!\n",
      "All\n",
      "Hello\n"
     ]
    }
   ],
   "source": [
    "#for\n",
    "for x2 in s1[::-1]:\n",
    "    print(x2)"
   ]
  },
  {
   "cell_type": "code",
   "execution_count": 9,
   "metadata": {},
   "outputs": [
    {
     "name": "stdout",
     "output_type": "stream",
     "text": [
      "Hello -->  5\n",
      "All -->  3\n",
      "! -->  1\n"
     ]
    }
   ],
   "source": [
    "#for\n",
    "for xx in s1:\n",
    "    print(xx +\" --> \",len(xx))"
   ]
  },
  {
   "cell_type": "code",
   "execution_count": 10,
   "metadata": {},
   "outputs": [
    {
     "name": "stdout",
     "output_type": "stream",
     "text": [
      "Not found\n",
      "Found : All \n",
      "Not found\n"
     ]
    }
   ],
   "source": [
    "#for and if-else\n",
    "for x3 in s1:\n",
    "    if x3 == \"All\":\n",
    "        print(\"Found : {} \".format(x3))\n",
    "    else:\n",
    "        print('Not found')"
   ]
  },
  {
   "cell_type": "code",
   "execution_count": 11,
   "metadata": {},
   "outputs": [
    {
     "name": "stdout",
     "output_type": "stream",
     "text": [
      "Not found\n",
      "Found : All \n"
     ]
    }
   ],
   "source": [
    "#for, if-else and break\n",
    "for x4 in s1:\n",
    "    if x4 == \"All\":\n",
    "        print(\"Found : {} \".format(x4))\n",
    "        break\n",
    "    else:\n",
    "        print('Not found')"
   ]
  },
  {
   "cell_type": "code",
   "execution_count": 12,
   "metadata": {},
   "outputs": [
    {
     "name": "stdout",
     "output_type": "stream",
     "text": [
      "Not found\n",
      "Not found\n"
     ]
    }
   ],
   "source": [
    "#for, if-else and continue\n",
    "for x5 in s1:\n",
    "    if x5 == \"All\":\n",
    "        continue\n",
    "    else:\n",
    "        print('Not found')"
   ]
  },
  {
   "cell_type": "code",
   "execution_count": 13,
   "metadata": {},
   "outputs": [
    {
     "name": "stdout",
     "output_type": "stream",
     "text": [
      "Hello How\n",
      "Hello Are\n",
      "Hello you\n",
      "All How\n",
      "All Are\n",
      "All you\n",
      "! How\n",
      "! Are\n",
      "! you\n"
     ]
    }
   ],
   "source": [
    "# Two for loops\n",
    "s1 = [\"Hello\",\"All\",\"!\"]\n",
    "s2 = ['How','Are','you']\n",
    "for x6 in s1:\n",
    "    for x7 in s2:\n",
    "        print(x6,x7)"
   ]
  },
  {
   "cell_type": "code",
   "execution_count": 14,
   "metadata": {},
   "outputs": [
    {
     "name": "stdout",
     "output_type": "stream",
     "text": [
      "1\n",
      "2\n",
      "3\n",
      "4\n",
      "5\n",
      "6\n",
      "7\n",
      "8\n",
      "9\n"
     ]
    }
   ],
   "source": [
    "# while loop\n",
    "cnt = 0\n",
    "while (cnt<9):\n",
    "    cnt = cnt + 1\n",
    "    print(cnt)"
   ]
  },
  {
   "cell_type": "code",
   "execution_count": 15,
   "metadata": {},
   "outputs": [
    {
     "name": "stdout",
     "output_type": "stream",
     "text": [
      "0\n",
      "1\n",
      "2\n",
      "3\n",
      "4\n",
      "5\n",
      "6\n"
     ]
    }
   ],
   "source": [
    "#while with break\n",
    "ct = 0\n",
    "while (ct<9):\n",
    "    print(ct)\n",
    "    if ct == 6:\n",
    "        break\n",
    "    ct = ct + 1"
   ]
  },
  {
   "cell_type": "code",
   "execution_count": 16,
   "metadata": {},
   "outputs": [
    {
     "name": "stdout",
     "output_type": "stream",
     "text": [
      "1\n",
      "2\n",
      "3\n",
      "4\n",
      "5\n",
      "7\n",
      "8\n",
      "9\n"
     ]
    }
   ],
   "source": [
    "#while with continue\n",
    "ct1 = 0\n",
    "while (ct1<9):\n",
    "    ct1 = ct1 + 1\n",
    "    if ct1 == 6:\n",
    "        continue\n",
    "    print(ct1)\n",
    "    "
   ]
  },
  {
   "cell_type": "code",
   "execution_count": 17,
   "metadata": {},
   "outputs": [
    {
     "name": "stdout",
     "output_type": "stream",
     "text": [
      "0\n",
      "1\n",
      "2\n",
      "3\n",
      "4\n",
      "5\n",
      "6\n",
      "7\n",
      "8\n",
      "9\n",
      "No counts more\n"
     ]
    }
   ],
   "source": [
    "#while with else\n",
    "cnt2 = 0\n",
    "while (cnt2<9+1):\n",
    "    print(cnt2)\n",
    "    cnt2=cnt2+1\n",
    "else:\n",
    "    print(\"No counts more\")"
   ]
  },
  {
   "cell_type": "code",
   "execution_count": 18,
   "metadata": {},
   "outputs": [
    {
     "name": "stdout",
     "output_type": "stream",
     "text": [
      "3\n"
     ]
    }
   ],
   "source": [
    "i = 0\n",
    "while i < len(s1):\n",
    "    i = i+1\n",
    "print(i)"
   ]
  },
  {
   "cell_type": "code",
   "execution_count": 25,
   "metadata": {},
   "outputs": [
    {
     "name": "stdout",
     "output_type": "stream",
     "text": [
      "P\n",
      "y\n",
      "t\n",
      "h\n",
      "o\n",
      "n\n",
      " \n",
      "D\n",
      "a\n",
      "t\n",
      "a\n",
      " \n"
     ]
    }
   ],
   "source": [
    "s = \"Python Data Science\"\n",
    "for i in s:\n",
    "    if i == 'S':\n",
    "        #print(i)\n",
    "        break\n",
    "    print(i)\n",
    "    \n",
    "else:\n",
    "    print('End')\n",
    "            "
   ]
  },
  {
   "cell_type": "code",
   "execution_count": 32,
   "metadata": {},
   "outputs": [
    {
     "name": "stdout",
     "output_type": "stream",
     "text": [
      "Toatal words : 18\n"
     ]
    }
   ],
   "source": [
    "for i in range(len(s)):\n",
    "    pass\n",
    "print(\"Toatal words : {}\". format(i))\n",
    "    "
   ]
  },
  {
   "cell_type": "code",
   "execution_count": 33,
   "metadata": {},
   "outputs": [
    {
     "name": "stdout",
     "output_type": "stream",
     "text": [
      "0\n",
      "1\n",
      "2\n",
      "3\n",
      "4\n",
      "5\n",
      "6\n",
      "7\n",
      "8\n",
      "9\n",
      "10\n",
      "11\n",
      "12\n",
      "13\n",
      "14\n",
      "15\n",
      "16\n",
      "17\n",
      "18\n"
     ]
    }
   ],
   "source": [
    "for i in range(len(s)):\n",
    "    print(i)"
   ]
  },
  {
   "cell_type": "code",
   "execution_count": 34,
   "metadata": {},
   "outputs": [
    {
     "name": "stdout",
     "output_type": "stream",
     "text": [
      "P\n",
      "y\n",
      "t\n",
      "h\n",
      "o\n",
      "n\n",
      " \n",
      "D\n",
      "a\n",
      "t\n",
      "a\n",
      " \n",
      "c\n",
      "i\n",
      "e\n",
      "n\n",
      "c\n",
      "e\n"
     ]
    }
   ],
   "source": [
    "for i in s:\n",
    "    if i == 'S':\n",
    "        continue\n",
    "    print(i)"
   ]
  },
  {
   "cell_type": "code",
   "execution_count": 35,
   "metadata": {},
   "outputs": [
    {
     "name": "stdout",
     "output_type": "stream",
     "text": [
      "* * * * * * * * * * * * * * * * * * * * * "
     ]
    }
   ],
   "source": [
    "n = 6\n",
    "for i in range(0,n):\n",
    "    for j in range(0,i+1):\n",
    "        print('*',end=\" \")"
   ]
  },
  {
   "cell_type": "code",
   "execution_count": 36,
   "metadata": {},
   "outputs": [
    {
     "name": "stdout",
     "output_type": "stream",
     "text": [
      "* \r\n",
      "* * \r\n",
      "* * * \r\n",
      "* * * * \r\n",
      "* * * * * \r\n",
      "* * * * * * \r\n"
     ]
    }
   ],
   "source": [
    "n = 6\n",
    "for i in range(0,n):\n",
    "    for j in range(0,i+1):\n",
    "        print('*',end=\" \")\n",
    "    print('\\r')"
   ]
  },
  {
   "cell_type": "code",
   "execution_count": 37,
   "metadata": {},
   "outputs": [
    {
     "name": "stdout",
     "output_type": "stream",
     "text": [
      "* * * * * * * * \r\n",
      "* * * * * * * \r\n",
      "* * * * * * \r\n",
      "* * * * * \r\n",
      "* * * * \r\n",
      "* * * \r\n",
      "* * \r\n"
     ]
    }
   ],
   "source": [
    "n = 7\n",
    "for i in range(0,n):\n",
    "    for j in range(i-1,n):\n",
    "        print('*',end=\" \")\n",
    "    print('\\r')"
   ]
  },
  {
   "cell_type": "code",
   "execution_count": 38,
   "metadata": {},
   "outputs": [
    {
     "name": "stdout",
     "output_type": "stream",
     "text": [
      "Enter the no of rows you want? :20\n",
      "* * * * * * * * * * * * * * * * * * * * * * * * * * * * * * * * * * * * * * * \n",
      "  * * * * * * * * * * * * * * * * * * * * * * * * * * * * * * * * * * * * * \n",
      "    * * * * * * * * * * * * * * * * * * * * * * * * * * * * * * * * * * * \n",
      "      * * * * * * * * * * * * * * * * * * * * * * * * * * * * * * * * * \n",
      "        * * * * * * * * * * * * * * * * * * * * * * * * * * * * * * * \n",
      "          * * * * * * * * * * * * * * * * * * * * * * * * * * * * * \n",
      "            * * * * * * * * * * * * * * * * * * * * * * * * * * * \n",
      "              * * * * * * * * * * * * * * * * * * * * * * * * * \n",
      "                * * * * * * * * * * * * * * * * * * * * * * * \n",
      "                  * * * * * * * * * * * * * * * * * * * * * \n",
      "                    * * * * * * * * * * * * * * * * * * * \n",
      "                      * * * * * * * * * * * * * * * * * \n",
      "                        * * * * * * * * * * * * * * * \n",
      "                          * * * * * * * * * * * * * \n",
      "                            * * * * * * * * * * * \n",
      "                              * * * * * * * * * \n",
      "                                * * * * * * * \n",
      "                                  * * * * * \n",
      "                                    * * * \n",
      "                                      * \n"
     ]
    }
   ],
   "source": [
    "n = int(input('Enter the no of rows you want? :'))\n",
    "\n",
    "for i in range(n,0,-1):\n",
    "    for j in range(n-i):\n",
    "        print(' ',end=\" \")\n",
    "    for j in range(2*i-1):\n",
    "        print('*',end=' ')\n",
    "    print()"
   ]
  },
  {
   "cell_type": "code",
   "execution_count": 39,
   "metadata": {},
   "outputs": [
    {
     "name": "stdout",
     "output_type": "stream",
     "text": [
      "        * \n",
      "       * * \n",
      "      * * * \n",
      "     * * * * \n",
      "    * * * * * \n",
      "   * * * * * * \n",
      "  * * * * * * * \n",
      " * * * * * * * * \n",
      "* * * * * * * * * \n"
     ]
    }
   ],
   "source": [
    "#While loop\n",
    "n=9\n",
    "i=0\n",
    "while i < n:\n",
    "    print(' '*(n-i-1) + '* '*(i+1))\n",
    "    i = i+1"
   ]
  },
  {
   "cell_type": "code",
   "execution_count": 40,
   "metadata": {},
   "outputs": [
    {
     "data": {
      "text/plain": [
       "'H'"
      ]
     },
     "execution_count": 40,
     "metadata": {},
     "output_type": "execute_result"
    }
   ],
   "source": [
    "a = 'Hello all how are you? hope you are doing good'\n",
    "a[0]"
   ]
  },
  {
   "cell_type": "code",
   "execution_count": 41,
   "metadata": {},
   "outputs": [
    {
     "data": {
      "text/plain": [
       "'d'"
      ]
     },
     "execution_count": 41,
     "metadata": {},
     "output_type": "execute_result"
    }
   ],
   "source": [
    "a[-1]"
   ]
  },
  {
   "cell_type": "code",
   "execution_count": 43,
   "metadata": {},
   "outputs": [
    {
     "data": {
      "text/plain": [
       "'doog gniod era uoy epoh ?uoy era wo'"
      ]
     },
     "execution_count": 43,
     "metadata": {},
     "output_type": "execute_result"
    }
   ],
   "source": [
    "a[-1:10:-1]"
   ]
  },
  {
   "cell_type": "code",
   "execution_count": 44,
   "metadata": {},
   "outputs": [
    {
     "data": {
      "text/plain": [
       "'doog gniod era uoy epoh ?uoy era woh lla olleH'"
      ]
     },
     "execution_count": 44,
     "metadata": {},
     "output_type": "execute_result"
    }
   ],
   "source": [
    "a[::-1]"
   ]
  },
  {
   "cell_type": "code",
   "execution_count": 45,
   "metadata": {},
   "outputs": [
    {
     "data": {
      "text/plain": [
       "'do no r o ph?o r o l le'"
      ]
     },
     "execution_count": 45,
     "metadata": {},
     "output_type": "execute_result"
    }
   ],
   "source": [
    "a[::-2]"
   ]
  },
  {
   "cell_type": "code",
   "execution_count": 46,
   "metadata": {},
   "outputs": [
    {
     "data": {
      "text/plain": [
       "'Hell'"
      ]
     },
     "execution_count": 46,
     "metadata": {},
     "output_type": "execute_result"
    }
   ],
   "source": [
    "a[0:4]"
   ]
  },
  {
   "cell_type": "code",
   "execution_count": 49,
   "metadata": {},
   "outputs": [
    {
     "data": {
      "text/plain": [
       "'Hloalhwaeyu oey'"
      ]
     },
     "execution_count": 49,
     "metadata": {},
     "output_type": "execute_result"
    }
   ],
   "source": [
    "a[:30:2]"
   ]
  },
  {
   "cell_type": "code",
   "execution_count": 50,
   "metadata": {},
   "outputs": [
    {
     "data": {
      "text/plain": [
       "'raghuvraghuvraghuvraghuvraghuvraghuvraghuvraghuvraghuvraghuvraghuvraghuvraghuvraghuvraghuvraghuvraghuvraghuvraghuvraghuv'"
      ]
     },
     "execution_count": 50,
     "metadata": {},
     "output_type": "execute_result"
    }
   ],
   "source": [
    "b = \"raghuv\"\n",
    "b*20"
   ]
  },
  {
   "cell_type": "code",
   "execution_count": 51,
   "metadata": {},
   "outputs": [
    {
     "data": {
      "text/plain": [
       "2"
      ]
     },
     "execution_count": 51,
     "metadata": {},
     "output_type": "execute_result"
    }
   ],
   "source": [
    "a.count('you')"
   ]
  },
  {
   "cell_type": "code",
   "execution_count": 52,
   "metadata": {},
   "outputs": [
    {
     "data": {
      "text/plain": [
       "['Hello', 'all', 'how', 'are', 'you?', 'hope', 'you', 'are', 'doing', 'good']"
      ]
     },
     "execution_count": 52,
     "metadata": {},
     "output_type": "execute_result"
    }
   ],
   "source": [
    "a.split()"
   ]
  },
  {
   "cell_type": "code",
   "execution_count": 53,
   "metadata": {},
   "outputs": [
    {
     "data": {
      "text/plain": [
       "['H', 'llo all how ar', ' you? hop', ' you ar', ' doing good']"
      ]
     },
     "execution_count": 53,
     "metadata": {},
     "output_type": "execute_result"
    }
   ],
   "source": [
    "a.split('e')"
   ]
  },
  {
   "cell_type": "code",
   "execution_count": 54,
   "metadata": {},
   "outputs": [
    {
     "data": {
      "text/plain": [
       "'HELLO ALL HOW ARE YOU? HOPE YOU ARE DOING GOOD'"
      ]
     },
     "execution_count": 54,
     "metadata": {},
     "output_type": "execute_result"
    }
   ],
   "source": [
    "a.upper()"
   ]
  },
  {
   "cell_type": "code",
   "execution_count": 55,
   "metadata": {},
   "outputs": [
    {
     "data": {
      "text/plain": [
       "'hello all how are you? hope you are doing good'"
      ]
     },
     "execution_count": 55,
     "metadata": {},
     "output_type": "execute_result"
    }
   ],
   "source": [
    "a.lower()"
   ]
  },
  {
   "cell_type": "code",
   "execution_count": 56,
   "metadata": {},
   "outputs": [
    {
     "data": {
      "text/plain": [
       "'hELLO ALL HOW ARE YOU? HOPE YOU ARE DOING GOOD'"
      ]
     },
     "execution_count": 56,
     "metadata": {},
     "output_type": "execute_result"
    }
   ],
   "source": [
    "a.swapcase()"
   ]
  },
  {
   "cell_type": "code",
   "execution_count": 57,
   "metadata": {},
   "outputs": [
    {
     "data": {
      "text/plain": [
       "'H*e*l*l*o* *a*l*l* *h*o*w* *a*r*e* *y*o*u*?* *h*o*p*e* *y*o*u* *a*r*e* *d*o*i*n*g* *g*o*o*d'"
      ]
     },
     "execution_count": 57,
     "metadata": {},
     "output_type": "execute_result"
    }
   ],
   "source": [
    "\"*\".join(a)"
   ]
  },
  {
   "cell_type": "code",
   "execution_count": 58,
   "metadata": {},
   "outputs": [
    {
     "name": "stdout",
     "output_type": "stream",
     "text": [
      "d\n",
      "o\n",
      "o\n",
      "g\n",
      " \n",
      "g\n",
      "n\n",
      "i\n",
      "o\n",
      "d\n",
      " \n",
      "e\n",
      "r\n",
      "a\n",
      " \n",
      "u\n",
      "o\n",
      "y\n",
      " \n",
      "e\n",
      "p\n",
      "o\n",
      "h\n",
      " \n",
      "?\n",
      "u\n",
      "o\n",
      "y\n",
      " \n",
      "e\n",
      "r\n",
      "a\n",
      " \n",
      "w\n",
      "o\n",
      "h\n",
      " \n",
      "l\n",
      "l\n",
      "a\n",
      " \n",
      "o\n",
      "l\n",
      "l\n",
      "e\n",
      "H\n"
     ]
    }
   ],
   "source": [
    "for i in reversed(a):\n",
    "    print(i)"
   ]
  },
  {
   "cell_type": "code",
   "execution_count": 60,
   "metadata": {},
   "outputs": [
    {
     "data": {
      "text/plain": [
       "'Hello all how are YOU? hope YOU are doing good'"
      ]
     },
     "execution_count": 60,
     "metadata": {},
     "output_type": "execute_result"
    }
   ],
   "source": [
    "a.replace(\"you\",'YOU')"
   ]
  },
  {
   "cell_type": "code",
   "execution_count": 61,
   "metadata": {},
   "outputs": [
    {
     "name": "stdout",
     "output_type": "stream",
     "text": [
      "6\n",
      "14\n",
      "32\n"
     ]
    }
   ],
   "source": [
    "for i in range(len(a)):\n",
    "    if(a[i]=='a'):\n",
    "        print(i)"
   ]
  },
  {
   "cell_type": "code",
   "execution_count": 62,
   "metadata": {},
   "outputs": [
    {
     "data": {
      "text/plain": [
       "'india england america switzerland finland mauritius newzealand'"
      ]
     },
     "execution_count": 62,
     "metadata": {},
     "output_type": "execute_result"
    }
   ],
   "source": [
    "#1.Lower the letters\n",
    "a1 = 'India England America Switzerland Finland Mauritius Newzealand'\n",
    "aa1 = a1.lower()\n",
    "aa1"
   ]
  },
  {
   "cell_type": "code",
   "execution_count": 64,
   "metadata": {},
   "outputs": [
    {
     "data": {
      "text/plain": [
       "9"
      ]
     },
     "execution_count": 64,
     "metadata": {},
     "output_type": "execute_result"
    }
   ],
   "source": [
    "#2.count the number of occurence of 'a'\n",
    "aa1.count('a')"
   ]
  },
  {
   "cell_type": "code",
   "execution_count": 71,
   "metadata": {},
   "outputs": [
    {
     "name": "stdout",
     "output_type": "stream",
     "text": [
      "22\n",
      "50\n"
     ]
    }
   ],
   "source": [
    "#3.find the index location of the string\n",
    "for i in range(len(aa1)):\n",
    "    if(aa1[i] == 's'):\n",
    "        print(i)"
   ]
  },
  {
   "cell_type": "code",
   "execution_count": 72,
   "metadata": {},
   "outputs": [
    {
     "data": {
      "text/plain": [
       "'india england america SSwitzerland finland mauritiuSS newzealand'"
      ]
     },
     "execution_count": 72,
     "metadata": {},
     "output_type": "execute_result"
    }
   ],
   "source": [
    "#4.replace \n",
    "aa2 = aa1.replace('s','SS')\n",
    "aa2"
   ]
  },
  {
   "cell_type": "code",
   "execution_count": 73,
   "metadata": {},
   "outputs": [
    {
     "name": "stdout",
     "output_type": "stream",
     "text": [
      "['india', 'england', 'america', 'SSwitzerland', 'finland', 'mauritiuSS', 'newzealand']\n"
     ]
    }
   ],
   "source": [
    "#5.split\n",
    "print(aa2.split())"
   ]
  },
  {
   "cell_type": "code",
   "execution_count": 74,
   "metadata": {},
   "outputs": [
    {
     "name": "stdout",
     "output_type": "stream",
     "text": [
      "64\n"
     ]
    }
   ],
   "source": [
    "#Find the length of the string using python\n",
    "cnt = 0\n",
    "for i in aa2:\n",
    "    cnt = cnt + 1\n",
    "print(cnt)"
   ]
  },
  {
   "cell_type": "code",
   "execution_count": 75,
   "metadata": {},
   "outputs": [
    {
     "data": {
      "text/plain": [
       "64"
      ]
     },
     "execution_count": 75,
     "metadata": {},
     "output_type": "execute_result"
    }
   ],
   "source": [
    "len(aa2)"
   ]
  },
  {
   "cell_type": "code",
   "execution_count": 81,
   "metadata": {},
   "outputs": [
    {
     "name": "stdout",
     "output_type": "stream",
     "text": [
      "i\n",
      "n\n",
      "d\n",
      "i\n",
      "a\n",
      " \n",
      "e\n",
      "n\n",
      "g\n",
      "l\n",
      "a\n",
      "n\n",
      "d\n",
      " \n",
      "a\n",
      "m\n",
      "e\n",
      "r\n",
      "i\n",
      "c\n",
      "a\n",
      " \n",
      "S\n",
      "S\n",
      "w\n",
      "i\n",
      "t\n",
      "z\n",
      "e\n",
      "r\n",
      "l\n",
      "a\n",
      "n\n",
      "d\n",
      " \n",
      "f\n",
      "i\n",
      "n\n",
      "l\n",
      "a\n",
      "n\n",
      "d\n",
      " \n",
      "m\n",
      "a\n",
      "u\n",
      "r\n",
      "i\n",
      "t\n",
      "i\n",
      "u\n",
      "S\n",
      "S\n",
      " \n",
      "n\n",
      "e\n",
      "w\n",
      "z\n",
      "e\n",
      "a\n",
      "l\n",
      "a\n",
      "n\n",
      "d\n"
     ]
    }
   ],
   "source": [
    "#Iterate through the index and not the chracters\n",
    "for i in range(len(aa2)):\n",
    "    print(aa2[i])"
   ]
  },
  {
   "cell_type": "code",
   "execution_count": 84,
   "metadata": {},
   "outputs": [
    {
     "name": "stdout",
     "output_type": "stream",
     "text": [
      "i\n",
      "d\n",
      "n\n",
      "a\n",
      "l\n",
      "a\n",
      "e\n",
      "z\n",
      "w\n",
      "e\n",
      "n\n",
      " \n",
      "S\n",
      "S\n",
      "u\n",
      "i\n",
      "t\n",
      "i\n",
      "r\n",
      "u\n",
      "a\n",
      "m\n",
      " \n",
      "d\n",
      "n\n",
      "a\n",
      "l\n",
      "n\n",
      "i\n",
      "f\n",
      " \n",
      "d\n",
      "n\n",
      "a\n",
      "l\n",
      "r\n",
      "e\n",
      "z\n",
      "t\n",
      "i\n",
      "w\n",
      "S\n",
      "S\n",
      " \n",
      "a\n",
      "c\n",
      "i\n",
      "r\n",
      "e\n",
      "m\n",
      "a\n",
      " \n",
      "d\n",
      "n\n",
      "a\n",
      "l\n",
      "g\n",
      "n\n",
      "e\n",
      " \n",
      "a\n",
      "i\n",
      "d\n",
      "n\n",
      "i\n"
     ]
    }
   ],
   "source": [
    "#Reverse\n",
    "for i in range(len(aa2)+1):\n",
    "    print(aa2[-i])"
   ]
  },
  {
   "cell_type": "code",
   "execution_count": 85,
   "metadata": {},
   "outputs": [
    {
     "name": "stdout",
     "output_type": "stream",
     "text": [
      "d\n",
      "n\n",
      "a\n",
      "l\n",
      "a\n",
      "e\n",
      "z\n",
      "w\n",
      "e\n",
      "n\n",
      " \n",
      "S\n",
      "S\n",
      "u\n",
      "i\n",
      "t\n",
      "i\n",
      "r\n",
      "u\n",
      "a\n",
      "m\n",
      " \n",
      "d\n",
      "n\n",
      "a\n",
      "l\n",
      "n\n",
      "i\n",
      "f\n",
      " \n",
      "d\n",
      "n\n",
      "a\n",
      "l\n",
      "r\n",
      "e\n",
      "z\n",
      "t\n",
      "i\n",
      "w\n",
      "S\n",
      "S\n",
      " \n",
      "a\n",
      "c\n",
      "i\n",
      "r\n",
      "e\n",
      "m\n",
      "a\n",
      " \n",
      "d\n",
      "n\n",
      "a\n",
      "l\n",
      "g\n",
      "n\n",
      "e\n",
      " \n",
      "a\n",
      "i\n",
      "d\n",
      "n\n",
      "i\n"
     ]
    }
   ],
   "source": [
    "#Reverse a string using while loop\n",
    "ch = len(aa2)-1\n",
    "while ch>=0:\n",
    "    print(aa2[ch])\n",
    "    ch = ch -1"
   ]
  },
  {
   "cell_type": "code",
   "execution_count": 86,
   "metadata": {},
   "outputs": [
    {
     "name": "stdout",
     "output_type": "stream",
     "text": [
      "i vowel\n",
      "n not a vowel\n",
      "d not a vowel\n",
      "i vowel\n",
      "a vowel\n",
      "  not a vowel\n",
      "e vowel\n",
      "n not a vowel\n",
      "g not a vowel\n",
      "l not a vowel\n",
      "a vowel\n",
      "n not a vowel\n",
      "d not a vowel\n",
      "  not a vowel\n",
      "a vowel\n",
      "m not a vowel\n",
      "e vowel\n",
      "r not a vowel\n",
      "i vowel\n",
      "c not a vowel\n",
      "a vowel\n",
      "  not a vowel\n",
      "S not a vowel\n",
      "S not a vowel\n",
      "w not a vowel\n",
      "i vowel\n",
      "t not a vowel\n",
      "z not a vowel\n",
      "e vowel\n",
      "r not a vowel\n",
      "l not a vowel\n",
      "a vowel\n",
      "n not a vowel\n",
      "d not a vowel\n",
      "  not a vowel\n",
      "f not a vowel\n",
      "i vowel\n",
      "n not a vowel\n",
      "l not a vowel\n",
      "a vowel\n",
      "n not a vowel\n",
      "d not a vowel\n",
      "  not a vowel\n",
      "m not a vowel\n",
      "a vowel\n",
      "u vowel\n",
      "r not a vowel\n",
      "i vowel\n",
      "t not a vowel\n",
      "i vowel\n",
      "u vowel\n",
      "S not a vowel\n",
      "S not a vowel\n",
      "  not a vowel\n",
      "n not a vowel\n",
      "e vowel\n",
      "w not a vowel\n",
      "z not a vowel\n",
      "e vowel\n",
      "a vowel\n",
      "l not a vowel\n",
      "a vowel\n",
      "n not a vowel\n",
      "d not a vowel\n"
     ]
    }
   ],
   "source": [
    "#vowel or not\n",
    "vow = 'AaEeIiOoUu'\n",
    "for i in aa2:\n",
    "    if i in vow:\n",
    "        print(\"{} vowel\".format(i))\n",
    "    else:\n",
    "        print(\"{} not a vowel\".format(i))"
   ]
  },
  {
   "cell_type": "code",
   "execution_count": 89,
   "metadata": {},
   "outputs": [
    {
     "name": "stdout",
     "output_type": "stream",
     "text": [
      "Enter the input to check palindrome or not : ama\n",
      "Yes it is a palindrome\n"
     ]
    }
   ],
   "source": [
    "#Palindrome\n",
    "p = input(\"Enter the input to check palindrome or not : \")\n",
    "p1 = p[::-1]\n",
    "if p == p1:\n",
    "    print('Yes it is a palindrome')\n",
    "else:\n",
    "    print(\"No it is not a palindrome\")"
   ]
  },
  {
   "cell_type": "code",
   "execution_count": 92,
   "metadata": {},
   "outputs": [
    {
     "name": "stdout",
     "output_type": "stream",
     "text": [
      "<class 'str'>\n",
      "<class 'int'>\n",
      "<class 'int'>\n",
      "<class 'int'>\n",
      "<class 'list'>\n",
      "<class 'bool'>\n"
     ]
    }
   ],
   "source": [
    "lst = [\"hi\",234,45,56,['JA',2018,20.0,9],True]\n",
    "for i in lst:\n",
    "    print(type(i))"
   ]
  },
  {
   "cell_type": "code",
   "execution_count": 94,
   "metadata": {},
   "outputs": [
    {
     "name": "stdout",
     "output_type": "stream",
     "text": [
      "JA\n",
      "2018\n",
      "20.0\n",
      "9\n"
     ]
    }
   ],
   "source": [
    "for i in lst[4]:\n",
    "    print(i)"
   ]
  },
  {
   "cell_type": "code",
   "execution_count": 95,
   "metadata": {},
   "outputs": [
    {
     "name": "stdout",
     "output_type": "stream",
     "text": [
      "Not available\n",
      "Not available\n",
      "Not available\n",
      "Not available\n",
      "The element ['JA', 2018, 20.0, 9] is available in the list ['hi', 234, 45, 56, ['JA', 2018, 20.0, 9], True]\n",
      "Not available\n"
     ]
    }
   ],
   "source": [
    "#Find whether any list is available inside the list or not\n",
    "for i in lst:\n",
    "    if type(i)== list:\n",
    "        print(\"The element {} is available in the list {}\".format(i,lst))\n",
    "    else:\n",
    "        print('Not available')"
   ]
  },
  {
   "cell_type": "code",
   "execution_count": 96,
   "metadata": {},
   "outputs": [
    {
     "data": {
      "text/plain": [
       "6"
      ]
     },
     "execution_count": 96,
     "metadata": {},
     "output_type": "execute_result"
    }
   ],
   "source": [
    "len(lst)"
   ]
  },
  {
   "cell_type": "code",
   "execution_count": 98,
   "metadata": {},
   "outputs": [
    {
     "data": {
      "text/plain": [
       "['hi', 234, 45, 56, ['JA', 2018, 20.0, 9], True]"
      ]
     },
     "execution_count": 98,
     "metadata": {},
     "output_type": "execute_result"
    }
   ],
   "source": [
    "max([lst])"
   ]
  },
  {
   "cell_type": "code",
   "execution_count": 99,
   "metadata": {},
   "outputs": [
    {
     "data": {
      "text/plain": [
       "2018"
      ]
     },
     "execution_count": 99,
     "metadata": {},
     "output_type": "execute_result"
    }
   ],
   "source": [
    "max([27,20,2018])"
   ]
  },
  {
   "cell_type": "code",
   "execution_count": 100,
   "metadata": {},
   "outputs": [
    {
     "data": {
      "text/plain": [
       "'z'"
      ]
     },
     "execution_count": 100,
     "metadata": {},
     "output_type": "execute_result"
    }
   ],
   "source": [
    "max(['a','z','ja'])"
   ]
  },
  {
   "cell_type": "code",
   "execution_count": 101,
   "metadata": {},
   "outputs": [
    {
     "data": {
      "text/plain": [
       "20"
      ]
     },
     "execution_count": 101,
     "metadata": {},
     "output_type": "execute_result"
    }
   ],
   "source": [
    "min([27,20,2018])"
   ]
  },
  {
   "cell_type": "code",
   "execution_count": 103,
   "metadata": {},
   "outputs": [
    {
     "data": {
      "text/plain": [
       "['hi', 234, 45, 56, ['JA', 2018, 20.0, 9], True, 'Jash', 'Jash']"
      ]
     },
     "execution_count": 103,
     "metadata": {},
     "output_type": "execute_result"
    }
   ],
   "source": [
    "lst.append('Jash')\n",
    "lst"
   ]
  },
  {
   "cell_type": "code",
   "execution_count": 104,
   "metadata": {},
   "outputs": [],
   "source": [
    "lst.insert(3,'Adh')"
   ]
  },
  {
   "cell_type": "code",
   "execution_count": 105,
   "metadata": {},
   "outputs": [
    {
     "data": {
      "text/plain": [
       "['hi', 234, 45, 'Adh', 56, ['JA', 2018, 20.0, 9], True, 'Jash', 'Jash']"
      ]
     },
     "execution_count": 105,
     "metadata": {},
     "output_type": "execute_result"
    }
   ],
   "source": [
    "lst"
   ]
  },
  {
   "cell_type": "code",
   "execution_count": 106,
   "metadata": {},
   "outputs": [
    {
     "data": {
      "text/plain": [
       "2"
      ]
     },
     "execution_count": 106,
     "metadata": {},
     "output_type": "execute_result"
    }
   ],
   "source": [
    "lst.count('Jash')"
   ]
  },
  {
   "cell_type": "code",
   "execution_count": 108,
   "metadata": {},
   "outputs": [
    {
     "data": {
      "text/plain": [
       "['hi',\n",
       " 234,\n",
       " 45,\n",
       " 'Adh',\n",
       " 56,\n",
       " ['JA', 2018, 20.0, 9],\n",
       " True,\n",
       " 'Jash',\n",
       " 'Jash',\n",
       " 'Jasvee',\n",
       " 'Aditiri',\n",
       " 20092018]"
      ]
     },
     "execution_count": 108,
     "metadata": {},
     "output_type": "execute_result"
    }
   ],
   "source": [
    "lst.extend(['Jasvee','Aditiri',20092018])\n",
    "lst"
   ]
  },
  {
   "cell_type": "code",
   "execution_count": 109,
   "metadata": {},
   "outputs": [
    {
     "data": {
      "text/plain": [
       "3"
      ]
     },
     "execution_count": 109,
     "metadata": {},
     "output_type": "execute_result"
    }
   ],
   "source": [
    "lst.index('Adh')"
   ]
  },
  {
   "cell_type": "code",
   "execution_count": 111,
   "metadata": {},
   "outputs": [
    {
     "data": {
      "text/plain": [
       "5"
      ]
     },
     "execution_count": 111,
     "metadata": {},
     "output_type": "execute_result"
    }
   ],
   "source": [
    "lst.index(['JA', 2018, 20.0, 9])"
   ]
  },
  {
   "cell_type": "code",
   "execution_count": 112,
   "metadata": {},
   "outputs": [
    {
     "data": {
      "text/plain": [
       "11"
      ]
     },
     "execution_count": 112,
     "metadata": {},
     "output_type": "execute_result"
    }
   ],
   "source": [
    "lst.index(20092018)"
   ]
  },
  {
   "cell_type": "code",
   "execution_count": 113,
   "metadata": {},
   "outputs": [
    {
     "data": {
      "text/plain": [
       "20092018"
      ]
     },
     "execution_count": 113,
     "metadata": {},
     "output_type": "execute_result"
    }
   ],
   "source": [
    "lst.pop()"
   ]
  },
  {
   "cell_type": "code",
   "execution_count": 114,
   "metadata": {},
   "outputs": [
    {
     "data": {
      "text/plain": [
       "['hi',\n",
       " 234,\n",
       " 45,\n",
       " 'Adh',\n",
       " 56,\n",
       " ['JA', 2018, 20.0, 9],\n",
       " True,\n",
       " 'Jash',\n",
       " 'Jash',\n",
       " 'Jasvee',\n",
       " 'Aditiri']"
      ]
     },
     "execution_count": 114,
     "metadata": {},
     "output_type": "execute_result"
    }
   ],
   "source": [
    "lst"
   ]
  },
  {
   "cell_type": "code",
   "execution_count": 116,
   "metadata": {},
   "outputs": [
    {
     "data": {
      "text/plain": [
       "56"
      ]
     },
     "execution_count": 116,
     "metadata": {},
     "output_type": "execute_result"
    }
   ],
   "source": [
    "lst.pop(4)"
   ]
  },
  {
   "cell_type": "code",
   "execution_count": 117,
   "metadata": {},
   "outputs": [],
   "source": [
    "lst.remove('Jash')"
   ]
  },
  {
   "cell_type": "code",
   "execution_count": 118,
   "metadata": {},
   "outputs": [
    {
     "data": {
      "text/plain": [
       "['hi',\n",
       " 234,\n",
       " 45,\n",
       " 'Adh',\n",
       " ['JA', 2018, 20.0, 9],\n",
       " True,\n",
       " 'Jash',\n",
       " 'Jasvee',\n",
       " 'Aditiri']"
      ]
     },
     "execution_count": 118,
     "metadata": {},
     "output_type": "execute_result"
    }
   ],
   "source": [
    "lst"
   ]
  },
  {
   "cell_type": "code",
   "execution_count": 121,
   "metadata": {},
   "outputs": [
    {
     "data": {
      "text/plain": [
       "['Aditiri',\n",
       " 'Jasvee',\n",
       " 'Jash',\n",
       " True,\n",
       " ['JA', 2018, 20.0, 9],\n",
       " 'Adh',\n",
       " 45,\n",
       " 234,\n",
       " 'hi']"
      ]
     },
     "execution_count": 121,
     "metadata": {},
     "output_type": "execute_result"
    }
   ],
   "source": [
    "lst.reverse()\n",
    "lst"
   ]
  },
  {
   "cell_type": "code",
   "execution_count": 123,
   "metadata": {},
   "outputs": [
    {
     "data": {
      "text/plain": [
       "[[20, 6, 27], ['Jasvee', 'Ranju', 'Amar'], [2018, 1992, 1988, 'A', 'R', 'J']]"
      ]
     },
     "execution_count": 123,
     "metadata": {},
     "output_type": "execute_result"
    }
   ],
   "source": [
    "#1.insert the complex no element in the list at the index location 2\n",
    "lt = [[20,6,27],['Jasvee','Ranju','Amar'],[2018,1992,1988,'A','R','J']]\n",
    "lt\n"
   ]
  },
  {
   "cell_type": "code",
   "execution_count": 124,
   "metadata": {},
   "outputs": [
    {
     "data": {
      "text/plain": [
       "[[20, 6, 27],\n",
       " ['Jasvee', 'Ranju', 'Amar'],\n",
       " (20+6j),\n",
       " [2018, 1992, 1988, 'A', 'R', 'J']]"
      ]
     },
     "execution_count": 124,
     "metadata": {},
     "output_type": "execute_result"
    }
   ],
   "source": [
    "lt.insert(2,20+6j)\n",
    "lt"
   ]
  },
  {
   "cell_type": "code",
   "execution_count": 132,
   "metadata": {},
   "outputs": [
    {
     "name": "stdout",
     "output_type": "stream",
     "text": [
      "Not a str : 20\n",
      "Not a str : 6\n",
      "Not a str : 27\n",
      "String is available : Jasvee and length : 6\n",
      "String is available : Ranju and length : 5\n",
      "String is available : Amar and length : 4\n",
      "Not a str : 2018\n",
      "Not a str : 1992\n",
      "Not a str : 1988\n",
      "String is available : A and length : 1\n",
      "String is available : R and length : 1\n",
      "String is available : J and length : 1\n"
     ]
    }
   ],
   "source": [
    "#2. Find is there any string is there inside the list of list\n",
    "for i in lt:\n",
    "    if type(i) == list:\n",
    "        for j in i:\n",
    "            if type(j)==str:\n",
    "                print(\"String is available : {} and length : {}\".format(j,len(j)))\n",
    "            else:\n",
    "                print(\"Not a str : {}\".format(j))\n",
    "        "
   ]
  },
  {
   "cell_type": "code",
   "execution_count": 133,
   "metadata": {},
   "outputs": [
    {
     "name": "stdout",
     "output_type": "stream",
     "text": [
      "[['gh', 56], [78, 90], [89, '90', '90', '90'], (6+7j), [89, 'yhg'], ['90', 98], 78, 90.0]\n"
     ]
    }
   ],
   "source": [
    "l=[[\"gh\",56],[89,\"yhg\"],[\"90\",98],78,90.0]\n",
    "for e in l:\n",
    "    if type(e)==list:\n",
    "        l.insert(l.index(e)+1,[78,90])\n",
    "        l.insert(l.index(e)+2,[89,\"90\",\"90\",\"90\"])\n",
    "        l.insert(l.index(e)+3,6+7j)\n",
    "        break\n",
    "print(l)"
   ]
  },
  {
   "cell_type": "code",
   "execution_count": 134,
   "metadata": {},
   "outputs": [
    {
     "name": "stdout",
     "output_type": "stream",
     "text": [
      "index of string in nested list of index number 0 is 0\n",
      "index of string in nested list of index number 2 is 1\n",
      "index of string in nested list of index number 2 is 1\n",
      "index of string in nested list of index number 4 is 1\n",
      "index of string in nested list of index number 5 is 0\n",
      "new list [[56], [78, 90], [89, '90'], (6+7j), [89], [98], 78, 90.0]\n"
     ]
    }
   ],
   "source": [
    "for i in l:\n",
    "    if type(i)==list:\n",
    "        for e in i:\n",
    "            if type(e)==str:\n",
    "                print(f\"index of string in nested list of index number {l.index(i)} is {i.index(e)}\")\n",
    "                i.remove(e)\n",
    "print(\"new list\",l)"
   ]
  },
  {
   "cell_type": "code",
   "execution_count": 135,
   "metadata": {},
   "outputs": [
    {
     "name": "stdout",
     "output_type": "stream",
     "text": [
      "Main List :  [[1, 2, 3], [11, 12, 'b', 'b', 'b'], [21, 't', 223], [4, 5, 6], [7, 8, 9], 'demo', 12.5]\n",
      "Index :  2\n",
      "Index :  2\n",
      "Index :  1\n",
      "Second Element :  2\n",
      "Second Element :  12\n",
      "Second Element :  223\n",
      "Second Element :  5\n",
      "Second Element :  8\n"
     ]
    }
   ],
   "source": [
    "l1 = [[1,2,3],[4,5,6],[7,8,9],'demo',12.5]\n",
    "l2 = [11,12,'b','b','b']\n",
    "l3 = [21,'t',223]\n",
    "# 1)\n",
    "l1.insert(1,l2)\n",
    "l1.insert(2,l3)\n",
    "print(\"Main List : \",l1)\n",
    "# 2)\n",
    "\n",
    "for i in l1:\n",
    "    if type(i)== list:\n",
    "        for j in i:\n",
    "            if type(j) == str:\n",
    "                print(\"Index : \",i.index(j))\n",
    "                i.remove(j)\n",
    "                \n",
    "# 3) \n",
    "for i in l1:\n",
    "    if type(i)== list:\n",
    "        print(\"Second Element : \",i[1])\n"
   ]
  },
  {
   "cell_type": "code",
   "execution_count": 136,
   "metadata": {},
   "outputs": [
    {
     "name": "stdout",
     "output_type": "stream",
     "text": [
      "123\n",
      "34\n",
      "54\n",
      "67\n",
      "8\n",
      "[123, 34, 54, 67, 8]\n"
     ]
    }
   ],
   "source": [
    "#input from user and store in the form of list\n",
    "ll = []\n",
    "for i in range(5):\n",
    "    ll.append(int(input()))\n",
    "print(ll)"
   ]
  },
  {
   "cell_type": "code",
   "execution_count": 137,
   "metadata": {},
   "outputs": [
    {
     "data": {
      "text/plain": [
       "['J', 'a', 's', 'v', 'e', 'e']"
      ]
     },
     "execution_count": 137,
     "metadata": {},
     "output_type": "execute_result"
    }
   ],
   "source": [
    "#List comprehension\n",
    "jj = \"Jasvee\"\n",
    "[ i for i in jj ]"
   ]
  },
  {
   "cell_type": "code",
   "execution_count": 138,
   "metadata": {},
   "outputs": [
    {
     "data": {
      "text/plain": [
       "[['J'], ['a'], ['s'], ['v'], ['e'], ['e']]"
      ]
     },
     "execution_count": 138,
     "metadata": {},
     "output_type": "execute_result"
    }
   ],
   "source": [
    "[ [i] for i in jj ]"
   ]
  },
  {
   "cell_type": "code",
   "execution_count": 139,
   "metadata": {},
   "outputs": [
    {
     "name": "stdout",
     "output_type": "stream",
     "text": [
      "[0, 2, 4, 6, 8]\n"
     ]
    }
   ],
   "source": [
    "lj = []\n",
    "for i in range(10):\n",
    "    if i%2 == 0:\n",
    "        lj.append(i)\n",
    "print(lj)"
   ]
  },
  {
   "cell_type": "code",
   "execution_count": 140,
   "metadata": {},
   "outputs": [
    {
     "data": {
      "text/plain": [
       "[0, 2, 4, 6, 8]"
      ]
     },
     "execution_count": 140,
     "metadata": {},
     "output_type": "execute_result"
    }
   ],
   "source": [
    "[i for i in range(10) if i%2 == 0]"
   ]
  },
  {
   "cell_type": "code",
   "execution_count": 141,
   "metadata": {},
   "outputs": [
    {
     "data": {
      "text/plain": [
       "['even', 'odd', 'even', 'odd', 'even', 'odd', 'even', 'odd', 'even', 'odd']"
      ]
     },
     "execution_count": 141,
     "metadata": {},
     "output_type": "execute_result"
    }
   ],
   "source": [
    "la = []\n",
    "for i in range(10):\n",
    "    if i%2!= 0:\n",
    "        la.append(\"odd\")\n",
    "    else:\n",
    "        la.append('even')\n",
    "la"
   ]
  },
  {
   "cell_type": "code",
   "execution_count": 142,
   "metadata": {},
   "outputs": [
    {
     "data": {
      "text/plain": [
       "['even', 'odd', 'even', 'odd', 'even', 'odd', 'even', 'odd', 'even', 'odd']"
      ]
     },
     "execution_count": 142,
     "metadata": {},
     "output_type": "execute_result"
    }
   ],
   "source": [
    "['odd' if i%2!=0 else 'even' for i in range(10)]"
   ]
  },
  {
   "cell_type": "code",
   "execution_count": 143,
   "metadata": {},
   "outputs": [
    {
     "data": {
      "text/plain": [
       "[[0, 1, 2], [0, 1, 2], [0, 1, 2], [0, 1, 2]]"
      ]
     },
     "execution_count": 143,
     "metadata": {},
     "output_type": "execute_result"
    }
   ],
   "source": [
    "mat = []\n",
    "for i in range(4):\n",
    "    mat.append([])\n",
    "    for j in range(3):\n",
    "        mat[i].append(j)\n",
    "mat"
   ]
  },
  {
   "cell_type": "code",
   "execution_count": 144,
   "metadata": {},
   "outputs": [
    {
     "data": {
      "text/plain": [
       "[0, 1, 2]"
      ]
     },
     "execution_count": 144,
     "metadata": {},
     "output_type": "execute_result"
    }
   ],
   "source": [
    "[i for i in range(3)]"
   ]
  },
  {
   "cell_type": "code",
   "execution_count": 145,
   "metadata": {},
   "outputs": [
    {
     "data": {
      "text/plain": [
       "[[0, 1, 2], [0, 1, 2], [0, 1, 2]]"
      ]
     },
     "execution_count": 145,
     "metadata": {},
     "output_type": "execute_result"
    }
   ],
   "source": [
    "[[j for j in range(3)]for i in range(3)]"
   ]
  },
  {
   "cell_type": "code",
   "execution_count": 146,
   "metadata": {},
   "outputs": [
    {
     "data": {
      "text/plain": [
       "[0, 6]"
      ]
     },
     "execution_count": 146,
     "metadata": {},
     "output_type": "execute_result"
    }
   ],
   "source": [
    "[i for i in range(10) if i%2 == 0 if i%3 == 0]"
   ]
  },
  {
   "cell_type": "code",
   "execution_count": 147,
   "metadata": {},
   "outputs": [
    {
     "data": {
      "text/plain": [
       "[0, 6]"
      ]
     },
     "execution_count": 147,
     "metadata": {},
     "output_type": "execute_result"
    }
   ],
   "source": [
    "we = []\n",
    "for i in range(8):\n",
    "    if i%2==0:\n",
    "        if i%3==0:\n",
    "            we.append(i)\n",
    "we"
   ]
  },
  {
   "cell_type": "code",
   "execution_count": 148,
   "metadata": {},
   "outputs": [
    {
     "data": {
      "text/plain": [
       "['test', 'yes', 'no', 'test', 'test']"
      ]
     },
     "execution_count": 148,
     "metadata": {},
     "output_type": "execute_result"
    }
   ],
   "source": [
    "l = [0,1,2,3,4]\n",
    "[\"yes\" if i==1 else \"no\" if i==2 else \"test\" for i in l]"
   ]
  },
  {
   "cell_type": "code",
   "execution_count": 149,
   "metadata": {},
   "outputs": [
    {
     "data": {
      "text/plain": [
       "['test', 'yes', 'no', 'test', 'test']"
      ]
     },
     "execution_count": 149,
     "metadata": {},
     "output_type": "execute_result"
    }
   ],
   "source": [
    "res = []\n",
    "for i in l:\n",
    "    if i == 1:\n",
    "        res.append('yes')\n",
    "    elif i == 2:\n",
    "        res.append('no')\n",
    "    else:\n",
    "        res.append('test')\n",
    "res"
   ]
  },
  {
   "cell_type": "code",
   "execution_count": 1,
   "metadata": {},
   "outputs": [
    {
     "data": {
      "text/plain": [
       "tuple"
      ]
     },
     "execution_count": 1,
     "metadata": {},
     "output_type": "execute_result"
    }
   ],
   "source": [
    "t =()\n",
    "type(t)"
   ]
  },
  {
   "cell_type": "code",
   "execution_count": 2,
   "metadata": {},
   "outputs": [
    {
     "data": {
      "text/plain": [
       "(20, 'Jasvee', (20+2018j), 11.45, True)"
      ]
     },
     "execution_count": 2,
     "metadata": {},
     "output_type": "execute_result"
    }
   ],
   "source": [
    "t1 = (20,'Jasvee',20+2018j,11.45,True)\n",
    "t1"
   ]
  },
  {
   "cell_type": "code",
   "execution_count": 3,
   "metadata": {},
   "outputs": [
    {
     "data": {
      "text/plain": [
       "20"
      ]
     },
     "execution_count": 3,
     "metadata": {},
     "output_type": "execute_result"
    }
   ],
   "source": [
    "t1[0]"
   ]
  },
  {
   "cell_type": "code",
   "execution_count": 4,
   "metadata": {},
   "outputs": [
    {
     "data": {
      "text/plain": [
       "True"
      ]
     },
     "execution_count": 4,
     "metadata": {},
     "output_type": "execute_result"
    }
   ],
   "source": [
    "20 in t1"
   ]
  },
  {
   "cell_type": "code",
   "execution_count": 5,
   "metadata": {},
   "outputs": [
    {
     "data": {
      "text/plain": [
       "1"
      ]
     },
     "execution_count": 5,
     "metadata": {},
     "output_type": "execute_result"
    }
   ],
   "source": [
    "t1.index('Jasvee') "
   ]
  },
  {
   "cell_type": "code",
   "execution_count": 6,
   "metadata": {},
   "outputs": [
    {
     "data": {
      "text/plain": [
       "1"
      ]
     },
     "execution_count": 6,
     "metadata": {},
     "output_type": "execute_result"
    }
   ],
   "source": [
    "t1.count(20)"
   ]
  },
  {
   "cell_type": "code",
   "execution_count": 7,
   "metadata": {},
   "outputs": [
    {
     "data": {
      "text/plain": [
       "((3, 4, 5, 6),\n",
       " ('Jasvee', 20, 2018, 9),\n",
       " (27, 6, 'Ar'),\n",
       " 27,\n",
       " 6,\n",
       " 20,\n",
       " ['Adithri', 27, 6, 20])"
      ]
     },
     "execution_count": 7,
     "metadata": {},
     "output_type": "execute_result"
    }
   ],
   "source": [
    "t2 = ((3,4,5,6),(\"Jasvee\",20,2018,9),(27,6,'Ar'),27,6,20,['Adithri',27,6,20])\n",
    "t2"
   ]
  },
  {
   "cell_type": "code",
   "execution_count": 8,
   "metadata": {},
   "outputs": [
    {
     "name": "stdout",
     "output_type": "stream",
     "text": [
      "(3, 4, 5, 6)\n",
      "('Jasvee', 20, 2018, 9)\n",
      "(27, 6, 'Ar')\n",
      "27\n",
      "6\n",
      "20\n",
      "['Adithri', 27, 6, 20]\n"
     ]
    }
   ],
   "source": [
    "for i in t2:\n",
    "    print(i)"
   ]
  },
  {
   "cell_type": "code",
   "execution_count": 9,
   "metadata": {},
   "outputs": [
    {
     "name": "stdout",
     "output_type": "stream",
     "text": [
      "3\n",
      "Jasvee\n",
      "27\n"
     ]
    }
   ],
   "source": [
    "for i in t2:\n",
    "    if type(i)==tuple:\n",
    "        print(i[0])"
   ]
  },
  {
   "cell_type": "code",
   "execution_count": 10,
   "metadata": {},
   "outputs": [
    {
     "data": {
      "text/plain": [
       "(20, 27, 6)"
      ]
     },
     "execution_count": 10,
     "metadata": {},
     "output_type": "execute_result"
    }
   ],
   "source": [
    "t3 = (20,27,6)\n",
    "t3"
   ]
  },
  {
   "cell_type": "code",
   "execution_count": 11,
   "metadata": {},
   "outputs": [
    {
     "data": {
      "text/plain": [
       "(20, 'Jasvee', (20+2018j), 11.45, True)"
      ]
     },
     "execution_count": 11,
     "metadata": {},
     "output_type": "execute_result"
    }
   ],
   "source": [
    "t1"
   ]
  },
  {
   "cell_type": "code",
   "execution_count": 12,
   "metadata": {},
   "outputs": [
    {
     "data": {
      "text/plain": [
       "(20, 27, 6)"
      ]
     },
     "execution_count": 12,
     "metadata": {},
     "output_type": "execute_result"
    }
   ],
   "source": [
    "t3"
   ]
  },
  {
   "cell_type": "code",
   "execution_count": 13,
   "metadata": {},
   "outputs": [
    {
     "name": "stdout",
     "output_type": "stream",
     "text": [
      "Not same\n"
     ]
    }
   ],
   "source": [
    "if len(t1) == len(t3):\n",
    "    print('Same')\n",
    "else:\n",
    "    print('Not same')"
   ]
  },
  {
   "cell_type": "code",
   "execution_count": 14,
   "metadata": {},
   "outputs": [
    {
     "name": "stdout",
     "output_type": "stream",
     "text": [
      "enter your input :Jasvee\n",
      "Jasvee is not available\n",
      "Jasvee is available\n",
      "Jasvee is not available\n",
      "Jasvee is not available\n",
      "Jasvee is not available\n"
     ]
    }
   ],
   "source": [
    "inp = input(\"enter your input :\")\n",
    "for i in t1:\n",
    "    if i == inp:\n",
    "        print('{} is available' .format(inp))\n",
    "    else:\n",
    "        print('{} is not available' .format(inp))"
   ]
  },
  {
   "cell_type": "code",
   "execution_count": 15,
   "metadata": {},
   "outputs": [
    {
     "name": "stdout",
     "output_type": "stream",
     "text": [
      "enter your input :Jasvee\n",
      "Available\n"
     ]
    }
   ],
   "source": [
    "inp = input(\"enter your input :\")\n",
    "if inp in t1:\n",
    "    print('Available')\n",
    "else:\n",
    "    print(\"not available\")"
   ]
  },
  {
   "cell_type": "code",
   "execution_count": 16,
   "metadata": {},
   "outputs": [
    {
     "data": {
      "text/plain": [
       "(20, 27, 6)"
      ]
     },
     "execution_count": 16,
     "metadata": {},
     "output_type": "execute_result"
    }
   ],
   "source": [
    "t3"
   ]
  },
  {
   "cell_type": "code",
   "execution_count": 17,
   "metadata": {},
   "outputs": [],
   "source": [
    "del(t3)"
   ]
  },
  {
   "cell_type": "code",
   "execution_count": 19,
   "metadata": {},
   "outputs": [
    {
     "data": {
      "text/plain": [
       "set"
      ]
     },
     "execution_count": 19,
     "metadata": {},
     "output_type": "execute_result"
    }
   ],
   "source": [
    "#Set\n",
    "x = set()\n",
    "type(x)"
   ]
  },
  {
   "cell_type": "code",
   "execution_count": 20,
   "metadata": {},
   "outputs": [],
   "source": [
    "l = [20,20,20,27,27,27,6,6,'Jasvee','Jasvee','Ranju','Ranju','Amar','Amar']\n",
    "st = set(l)"
   ]
  },
  {
   "cell_type": "code",
   "execution_count": 21,
   "metadata": {},
   "outputs": [
    {
     "data": {
      "text/plain": [
       "{20, 27, 6, 'Amar', 'Jasvee', 'Ranju'}"
      ]
     },
     "execution_count": 21,
     "metadata": {},
     "output_type": "execute_result"
    }
   ],
   "source": [
    "st"
   ]
  },
  {
   "cell_type": "code",
   "execution_count": 22,
   "metadata": {},
   "outputs": [],
   "source": [
    "st.add('Adithri')"
   ]
  },
  {
   "cell_type": "code",
   "execution_count": 23,
   "metadata": {},
   "outputs": [
    {
     "data": {
      "text/plain": [
       "{20, 27, 6, 'Adithri', 'Amar', 'Jasvee', 'Ranju'}"
      ]
     },
     "execution_count": 23,
     "metadata": {},
     "output_type": "execute_result"
    }
   ],
   "source": [
    "st"
   ]
  },
  {
   "cell_type": "code",
   "execution_count": 24,
   "metadata": {},
   "outputs": [
    {
     "data": {
      "text/plain": [
       "{2, 4, 5, 6, 34, 56, 78}"
      ]
     },
     "execution_count": 24,
     "metadata": {},
     "output_type": "execute_result"
    }
   ],
   "source": [
    "ss1= {2,4,5,6,78,2,34,56}\n",
    "ss1"
   ]
  },
  {
   "cell_type": "code",
   "execution_count": 25,
   "metadata": {},
   "outputs": [],
   "source": [
    "ss1.clear()"
   ]
  },
  {
   "cell_type": "code",
   "execution_count": 26,
   "metadata": {},
   "outputs": [
    {
     "data": {
      "text/plain": [
       "set()"
      ]
     },
     "execution_count": 26,
     "metadata": {},
     "output_type": "execute_result"
    }
   ],
   "source": [
    "ss1"
   ]
  },
  {
   "cell_type": "code",
   "execution_count": 27,
   "metadata": {},
   "outputs": [
    {
     "data": {
      "text/plain": [
       "dict"
      ]
     },
     "execution_count": 27,
     "metadata": {},
     "output_type": "execute_result"
    }
   ],
   "source": [
    "#Dictionary\n",
    "x = {}\n",
    "type(x)"
   ]
  },
  {
   "cell_type": "code",
   "execution_count": 28,
   "metadata": {},
   "outputs": [
    {
     "data": {
      "text/plain": [
       "set"
      ]
     },
     "execution_count": 28,
     "metadata": {},
     "output_type": "execute_result"
    }
   ],
   "source": [
    "x1 = {34,56,34,56}\n",
    "type(x1)"
   ]
  },
  {
   "cell_type": "code",
   "execution_count": 29,
   "metadata": {},
   "outputs": [
    {
     "data": {
      "text/plain": [
       "{34, 56}"
      ]
     },
     "execution_count": 29,
     "metadata": {},
     "output_type": "execute_result"
    }
   ],
   "source": [
    "x1"
   ]
  },
  {
   "cell_type": "code",
   "execution_count": 30,
   "metadata": {},
   "outputs": [
    {
     "data": {
      "text/plain": [
       "{'name': 'Jasvee', True: 2018, 20: 11.45}"
      ]
     },
     "execution_count": 30,
     "metadata": {},
     "output_type": "execute_result"
    }
   ],
   "source": [
    "x2 = {'name':'Jasvee',True:2018,20:11.45}\n",
    "x2"
   ]
  },
  {
   "cell_type": "code",
   "execution_count": 31,
   "metadata": {},
   "outputs": [
    {
     "data": {
      "text/plain": [
       "dict_keys(['name', True, 20])"
      ]
     },
     "execution_count": 31,
     "metadata": {},
     "output_type": "execute_result"
    }
   ],
   "source": [
    "x2.keys()"
   ]
  },
  {
   "cell_type": "code",
   "execution_count": 33,
   "metadata": {},
   "outputs": [
    {
     "name": "stdout",
     "output_type": "stream",
     "text": [
      "('name', 'Jasvee')\n",
      "(True, 2018)\n",
      "(20, 11.45)\n"
     ]
    }
   ],
   "source": [
    "for i in x2.items():\n",
    "    print(i)"
   ]
  },
  {
   "cell_type": "code",
   "execution_count": 34,
   "metadata": {},
   "outputs": [
    {
     "name": "stdout",
     "output_type": "stream",
     "text": [
      "name\n",
      "True\n",
      "20\n"
     ]
    }
   ],
   "source": [
    "for i in x2.keys():\n",
    "    print(i)"
   ]
  },
  {
   "cell_type": "code",
   "execution_count": 35,
   "metadata": {},
   "outputs": [
    {
     "name": "stdout",
     "output_type": "stream",
     "text": [
      "Jasvee\n",
      "2018\n",
      "11.45\n"
     ]
    }
   ],
   "source": [
    "for i in x2.keys():\n",
    "    print(x2[i])"
   ]
  },
  {
   "cell_type": "code",
   "execution_count": 36,
   "metadata": {},
   "outputs": [
    {
     "name": "stdout",
     "output_type": "stream",
     "text": [
      "<class 'str'>\n",
      "<class 'int'>\n",
      "<class 'float'>\n"
     ]
    }
   ],
   "source": [
    "for i in x2.keys():\n",
    "    print(type(x2[i]))"
   ]
  },
  {
   "cell_type": "code",
   "execution_count": 37,
   "metadata": {},
   "outputs": [
    {
     "data": {
      "text/plain": [
       "dict_items([('name', 'Jasvee'), (True, 2018), (20, 11.45)])"
      ]
     },
     "execution_count": 37,
     "metadata": {},
     "output_type": "execute_result"
    }
   ],
   "source": [
    "x2.items() # list of tuples"
   ]
  },
  {
   "cell_type": "code",
   "execution_count": 38,
   "metadata": {},
   "outputs": [
    {
     "name": "stdout",
     "output_type": "stream",
     "text": [
      "name\n",
      "True\n",
      "20\n"
     ]
    }
   ],
   "source": [
    "#keys\n",
    "for i in x2.items():\n",
    "    print(i[0])"
   ]
  },
  {
   "cell_type": "code",
   "execution_count": 39,
   "metadata": {},
   "outputs": [
    {
     "name": "stdout",
     "output_type": "stream",
     "text": [
      "Jasvee\n",
      "2018\n",
      "11.45\n"
     ]
    }
   ],
   "source": [
    "#values\n",
    "#keys\n",
    "for i in x2.items():\n",
    "    print(i[1])"
   ]
  },
  {
   "cell_type": "code",
   "execution_count": 40,
   "metadata": {},
   "outputs": [
    {
     "data": {
      "text/plain": [
       "dict_keys([(20, 9, 2018)])"
      ]
     },
     "execution_count": 40,
     "metadata": {},
     "output_type": "execute_result"
    }
   ],
   "source": [
    "x3 = {(20,9,2018):'Jasvee'}\n",
    "x3.keys()"
   ]
  },
  {
   "cell_type": "code",
   "execution_count": 41,
   "metadata": {},
   "outputs": [
    {
     "data": {
      "text/plain": [
       "3"
      ]
     },
     "execution_count": 41,
     "metadata": {},
     "output_type": "execute_result"
    }
   ],
   "source": [
    "len(x2)"
   ]
  },
  {
   "cell_type": "code",
   "execution_count": 42,
   "metadata": {},
   "outputs": [
    {
     "data": {
      "text/plain": [
       "43"
      ]
     },
     "execution_count": 42,
     "metadata": {},
     "output_type": "execute_result"
    }
   ],
   "source": [
    "e = {56:{45,78,43}}\n",
    "l = list(e[56])\n",
    "l[0]"
   ]
  },
  {
   "cell_type": "code",
   "execution_count": 43,
   "metadata": {},
   "outputs": [
    {
     "name": "stdout",
     "output_type": "stream",
     "text": [
      "A paragraph is a series of related sentences developing a central idea, called the topic. Try to think about paragraphs in terms of thematic unity: a paragraph is a sentence or a group of sentences that supports one central, unified idea. Paragraphs add one idea at a time to your broader argument.\n"
     ]
    }
   ],
   "source": [
    "#1. Take input as a paragraph ny using input function\n",
    "inp = input()\n"
   ]
  },
  {
   "cell_type": "code",
   "execution_count": 44,
   "metadata": {},
   "outputs": [
    {
     "data": {
      "text/plain": [
       "'A paragraph is a series of related sentences developing a central idea, called the topic. Try to think about paragraphs in terms of thematic unity: a paragraph is a sentence or a group of sentences that supports one central, unified idea. Paragraphs add one idea at a time to your broader argument.'"
      ]
     },
     "execution_count": 44,
     "metadata": {},
     "output_type": "execute_result"
    }
   ],
   "source": [
    "inp"
   ]
  },
  {
   "cell_type": "code",
   "execution_count": 45,
   "metadata": {},
   "outputs": [
    {
     "data": {
      "text/plain": [
       "['A',\n",
       " 'paragraph',\n",
       " 'is',\n",
       " 'a',\n",
       " 'series',\n",
       " 'of',\n",
       " 'related',\n",
       " 'sentences',\n",
       " 'developing',\n",
       " 'a',\n",
       " 'central',\n",
       " 'idea,',\n",
       " 'called',\n",
       " 'the',\n",
       " 'topic.',\n",
       " 'Try',\n",
       " 'to',\n",
       " 'think',\n",
       " 'about',\n",
       " 'paragraphs',\n",
       " 'in',\n",
       " 'terms',\n",
       " 'of',\n",
       " 'thematic',\n",
       " 'unity:',\n",
       " 'a',\n",
       " 'paragraph',\n",
       " 'is',\n",
       " 'a',\n",
       " 'sentence',\n",
       " 'or',\n",
       " 'a',\n",
       " 'group',\n",
       " 'of',\n",
       " 'sentences',\n",
       " 'that',\n",
       " 'supports',\n",
       " 'one',\n",
       " 'central,',\n",
       " 'unified',\n",
       " 'idea.',\n",
       " 'Paragraphs',\n",
       " 'add',\n",
       " 'one',\n",
       " 'idea',\n",
       " 'at',\n",
       " 'a',\n",
       " 'time',\n",
       " 'to',\n",
       " 'your',\n",
       " 'broader',\n",
       " 'argument.']"
      ]
     },
     "execution_count": 45,
     "metadata": {},
     "output_type": "execute_result"
    }
   ],
   "source": [
    "#2. convert all of input into list\n",
    "lst = inp.split()\n",
    "lst"
   ]
  },
  {
   "cell_type": "code",
   "execution_count": 49,
   "metadata": {},
   "outputs": [
    {
     "data": {
      "text/plain": [
       "{'A',\n",
       " 'Paragraphs',\n",
       " 'Try',\n",
       " 'a',\n",
       " 'about',\n",
       " 'add',\n",
       " 'argument.',\n",
       " 'at',\n",
       " 'broader',\n",
       " 'called',\n",
       " 'central',\n",
       " 'central,',\n",
       " 'developing',\n",
       " 'group',\n",
       " 'idea',\n",
       " 'idea,',\n",
       " 'idea.',\n",
       " 'in',\n",
       " 'is',\n",
       " 'of',\n",
       " 'one',\n",
       " 'or',\n",
       " 'paragraph',\n",
       " 'paragraphs',\n",
       " 'related',\n",
       " 'sentence',\n",
       " 'sentences',\n",
       " 'series',\n",
       " 'supports',\n",
       " 'terms',\n",
       " 'that',\n",
       " 'the',\n",
       " 'thematic',\n",
       " 'think',\n",
       " 'time',\n",
       " 'to',\n",
       " 'topic.',\n",
       " 'unified',\n",
       " 'unity:',\n",
       " 'your'}"
      ]
     },
     "execution_count": 49,
     "metadata": {},
     "output_type": "execute_result"
    }
   ],
   "source": [
    "#3. Remove all the Duplicate element from the list\n",
    "newlst = set(lst)\n",
    "newlst"
   ]
  },
  {
   "cell_type": "code",
   "execution_count": 50,
   "metadata": {},
   "outputs": [
    {
     "data": {
      "text/plain": [
       "{'Paragraphs': None,\n",
       " 'add': None,\n",
       " 'broader': None,\n",
       " 'idea,': None,\n",
       " 'A': None,\n",
       " 'the': None,\n",
       " 'central,': None,\n",
       " 'called': None,\n",
       " 'unified': None,\n",
       " 'a': None,\n",
       " 'one': None,\n",
       " 'supports': None,\n",
       " 'about': None,\n",
       " 'paragraph': None,\n",
       " 'developing': None,\n",
       " 'argument.': None,\n",
       " 'time': None,\n",
       " 'of': None,\n",
       " 'is': None,\n",
       " 'thematic': None,\n",
       " 'in': None,\n",
       " 'think': None,\n",
       " 'sentence': None,\n",
       " 'group': None,\n",
       " 'series': None,\n",
       " 'idea': None,\n",
       " 'central': None,\n",
       " 'or': None,\n",
       " 'paragraphs': None,\n",
       " 'sentences': None,\n",
       " 'idea.': None,\n",
       " 'Try': None,\n",
       " 'to': None,\n",
       " 'that': None,\n",
       " 'terms': None,\n",
       " 'related': None,\n",
       " 'topic.': None,\n",
       " 'your': None,\n",
       " 'unity:': None,\n",
       " 'at': None}"
      ]
     },
     "execution_count": 50,
     "metadata": {},
     "output_type": "execute_result"
    }
   ],
   "source": [
    "#4. Use above duplicate distinct element as a key for dictionary and assign your name as a value of all the key for dictionary\n",
    "d= dict.fromkeys(newlst)\n",
    "d"
   ]
  },
  {
   "cell_type": "code",
   "execution_count": 51,
   "metadata": {},
   "outputs": [
    {
     "data": {
      "text/plain": [
       "{'Paragraphs': 'Jasvee',\n",
       " 'add': 'Jasvee',\n",
       " 'broader': 'Jasvee',\n",
       " 'idea,': 'Jasvee',\n",
       " 'A': 'Jasvee',\n",
       " 'the': 'Jasvee',\n",
       " 'central,': 'Jasvee',\n",
       " 'called': 'Jasvee',\n",
       " 'unified': 'Jasvee',\n",
       " 'a': 'Jasvee',\n",
       " 'one': 'Jasvee',\n",
       " 'supports': 'Jasvee',\n",
       " 'about': 'Jasvee',\n",
       " 'paragraph': 'Jasvee',\n",
       " 'developing': 'Jasvee',\n",
       " 'argument.': 'Jasvee',\n",
       " 'time': 'Jasvee',\n",
       " 'of': 'Jasvee',\n",
       " 'is': 'Jasvee',\n",
       " 'thematic': 'Jasvee',\n",
       " 'in': 'Jasvee',\n",
       " 'think': 'Jasvee',\n",
       " 'sentence': 'Jasvee',\n",
       " 'group': 'Jasvee',\n",
       " 'series': 'Jasvee',\n",
       " 'idea': 'Jasvee',\n",
       " 'central': 'Jasvee',\n",
       " 'or': 'Jasvee',\n",
       " 'paragraphs': 'Jasvee',\n",
       " 'sentences': 'Jasvee',\n",
       " 'idea.': 'Jasvee',\n",
       " 'Try': 'Jasvee',\n",
       " 'to': 'Jasvee',\n",
       " 'that': 'Jasvee',\n",
       " 'terms': 'Jasvee',\n",
       " 'related': 'Jasvee',\n",
       " 'topic.': 'Jasvee',\n",
       " 'your': 'Jasvee',\n",
       " 'unity:': 'Jasvee',\n",
       " 'at': 'Jasvee'}"
      ]
     },
     "execution_count": 51,
     "metadata": {},
     "output_type": "execute_result"
    }
   ],
   "source": [
    "d= dict.fromkeys(newlst,'Jasvee')\n",
    "d"
   ]
  },
  {
   "cell_type": "code",
   "execution_count": 52,
   "metadata": {},
   "outputs": [
    {
     "data": {
      "text/plain": [
       "('Jasvee',\n",
       " 'Jasvee',\n",
       " 'Jasvee',\n",
       " 'Jasvee',\n",
       " 'Jasvee',\n",
       " 'Jasvee',\n",
       " 'Jasvee',\n",
       " 'Jasvee',\n",
       " 'Jasvee',\n",
       " 'Jasvee',\n",
       " 'Jasvee',\n",
       " 'Jasvee',\n",
       " 'Jasvee',\n",
       " 'Jasvee',\n",
       " 'Jasvee',\n",
       " 'Jasvee',\n",
       " 'Jasvee',\n",
       " 'Jasvee',\n",
       " 'Jasvee',\n",
       " 'Jasvee',\n",
       " 'Jasvee',\n",
       " 'Jasvee',\n",
       " 'Jasvee',\n",
       " 'Jasvee',\n",
       " 'Jasvee',\n",
       " 'Jasvee',\n",
       " 'Jasvee',\n",
       " 'Jasvee',\n",
       " 'Jasvee',\n",
       " 'Jasvee',\n",
       " 'Jasvee',\n",
       " 'Jasvee',\n",
       " 'Jasvee',\n",
       " 'Jasvee',\n",
       " 'Jasvee',\n",
       " 'Jasvee',\n",
       " 'Jasvee',\n",
       " 'Jasvee',\n",
       " 'Jasvee',\n",
       " 'Jasvee')"
      ]
     },
     "execution_count": 52,
     "metadata": {},
     "output_type": "execute_result"
    }
   ],
   "source": [
    "#5. Try to print tuple of all the values\n",
    "tup=tuple(d.values())\n",
    "tup"
   ]
  },
  {
   "cell_type": "code",
   "execution_count": 53,
   "metadata": {},
   "outputs": [
    {
     "data": {
      "text/plain": [
       "['Paragraphs',\n",
       " 'add',\n",
       " 'broader',\n",
       " 'idea,',\n",
       " 'A',\n",
       " 'the',\n",
       " 'central,',\n",
       " 'called',\n",
       " 'unified',\n",
       " 'a',\n",
       " 'one',\n",
       " 'supports',\n",
       " 'about',\n",
       " 'paragraph',\n",
       " 'developing',\n",
       " 'argument.',\n",
       " 'time',\n",
       " 'of',\n",
       " 'is',\n",
       " 'thematic',\n",
       " 'in',\n",
       " 'think',\n",
       " 'sentence',\n",
       " 'group',\n",
       " 'series',\n",
       " 'idea',\n",
       " 'central',\n",
       " 'or',\n",
       " 'paragraphs',\n",
       " 'sentences',\n",
       " 'idea.',\n",
       " 'Try',\n",
       " 'to',\n",
       " 'that',\n",
       " 'terms',\n",
       " 'related',\n",
       " 'topic.',\n",
       " 'your',\n",
       " 'unity:',\n",
       " 'at']"
      ]
     },
     "execution_count": 53,
     "metadata": {},
     "output_type": "execute_result"
    }
   ],
   "source": [
    "#6. try to print list of all the key\n",
    "lt = list(d.keys())\n",
    "lt"
   ]
  },
  {
   "cell_type": "code",
   "execution_count": 55,
   "metadata": {},
   "outputs": [
    {
     "name": "stdout",
     "output_type": "stream",
     "text": [
      "A paragraph is a series of related sentences developing a central idea, called the topic. Try to think about paragraphs in terms of thematic unity: a paragraph is a sentence or a group of sentences that supports one central, unified idea. Paragraphs add one idea at a time to your broader argument.\n"
     ]
    }
   ],
   "source": [
    "#Task\n",
    "inp = input()\n",
    "lst = inp.split()\n",
    "newlst = set(lst)\n",
    "d= dict.fromkeys(newlst,'Jasvee')\n",
    "tup=tuple(d.values())\n",
    "lt = list(d.keys())"
   ]
  },
  {
   "cell_type": "code",
   "execution_count": 56,
   "metadata": {},
   "outputs": [
    {
     "data": {
      "text/plain": [
       "['A',\n",
       " 'paragraph',\n",
       " 'is',\n",
       " 'a',\n",
       " 'series',\n",
       " 'of',\n",
       " 'related',\n",
       " 'sentences',\n",
       " 'developing',\n",
       " 'a',\n",
       " 'central',\n",
       " 'idea,',\n",
       " 'called',\n",
       " 'the',\n",
       " 'topic.',\n",
       " 'Try',\n",
       " 'to',\n",
       " 'think',\n",
       " 'about',\n",
       " 'paragraphs',\n",
       " 'in',\n",
       " 'terms',\n",
       " 'of',\n",
       " 'thematic',\n",
       " 'unity:',\n",
       " 'a',\n",
       " 'paragraph',\n",
       " 'is',\n",
       " 'a',\n",
       " 'sentence',\n",
       " 'or',\n",
       " 'a',\n",
       " 'group',\n",
       " 'of',\n",
       " 'sentences',\n",
       " 'that',\n",
       " 'supports',\n",
       " 'one',\n",
       " 'central,',\n",
       " 'unified',\n",
       " 'idea.',\n",
       " 'Paragraphs',\n",
       " 'add',\n",
       " 'one',\n",
       " 'idea',\n",
       " 'at',\n",
       " 'a',\n",
       " 'time',\n",
       " 'to',\n",
       " 'your',\n",
       " 'broader',\n",
       " 'argument.']"
      ]
     },
     "execution_count": 56,
     "metadata": {},
     "output_type": "execute_result"
    }
   ],
   "source": [
    "lst"
   ]
  },
  {
   "cell_type": "code",
   "execution_count": 57,
   "metadata": {},
   "outputs": [
    {
     "data": {
      "text/plain": [
       "{'A',\n",
       " 'Paragraphs',\n",
       " 'Try',\n",
       " 'a',\n",
       " 'about',\n",
       " 'add',\n",
       " 'argument.',\n",
       " 'at',\n",
       " 'broader',\n",
       " 'called',\n",
       " 'central',\n",
       " 'central,',\n",
       " 'developing',\n",
       " 'group',\n",
       " 'idea',\n",
       " 'idea,',\n",
       " 'idea.',\n",
       " 'in',\n",
       " 'is',\n",
       " 'of',\n",
       " 'one',\n",
       " 'or',\n",
       " 'paragraph',\n",
       " 'paragraphs',\n",
       " 'related',\n",
       " 'sentence',\n",
       " 'sentences',\n",
       " 'series',\n",
       " 'supports',\n",
       " 'terms',\n",
       " 'that',\n",
       " 'the',\n",
       " 'thematic',\n",
       " 'think',\n",
       " 'time',\n",
       " 'to',\n",
       " 'topic.',\n",
       " 'unified',\n",
       " 'unity:',\n",
       " 'your'}"
      ]
     },
     "execution_count": 57,
     "metadata": {},
     "output_type": "execute_result"
    }
   ],
   "source": [
    "newlst"
   ]
  },
  {
   "cell_type": "code",
   "execution_count": 58,
   "metadata": {},
   "outputs": [
    {
     "data": {
      "text/plain": [
       "{'Paragraphs': 'Jasvee',\n",
       " 'add': 'Jasvee',\n",
       " 'broader': 'Jasvee',\n",
       " 'idea,': 'Jasvee',\n",
       " 'A': 'Jasvee',\n",
       " 'the': 'Jasvee',\n",
       " 'central,': 'Jasvee',\n",
       " 'called': 'Jasvee',\n",
       " 'unified': 'Jasvee',\n",
       " 'a': 'Jasvee',\n",
       " 'one': 'Jasvee',\n",
       " 'supports': 'Jasvee',\n",
       " 'about': 'Jasvee',\n",
       " 'paragraph': 'Jasvee',\n",
       " 'developing': 'Jasvee',\n",
       " 'argument.': 'Jasvee',\n",
       " 'time': 'Jasvee',\n",
       " 'of': 'Jasvee',\n",
       " 'is': 'Jasvee',\n",
       " 'thematic': 'Jasvee',\n",
       " 'in': 'Jasvee',\n",
       " 'think': 'Jasvee',\n",
       " 'sentence': 'Jasvee',\n",
       " 'group': 'Jasvee',\n",
       " 'series': 'Jasvee',\n",
       " 'idea': 'Jasvee',\n",
       " 'central': 'Jasvee',\n",
       " 'or': 'Jasvee',\n",
       " 'paragraphs': 'Jasvee',\n",
       " 'sentences': 'Jasvee',\n",
       " 'idea.': 'Jasvee',\n",
       " 'Try': 'Jasvee',\n",
       " 'to': 'Jasvee',\n",
       " 'that': 'Jasvee',\n",
       " 'terms': 'Jasvee',\n",
       " 'related': 'Jasvee',\n",
       " 'topic.': 'Jasvee',\n",
       " 'your': 'Jasvee',\n",
       " 'unity:': 'Jasvee',\n",
       " 'at': 'Jasvee'}"
      ]
     },
     "execution_count": 58,
     "metadata": {},
     "output_type": "execute_result"
    }
   ],
   "source": [
    "d"
   ]
  },
  {
   "cell_type": "code",
   "execution_count": 59,
   "metadata": {},
   "outputs": [
    {
     "data": {
      "text/plain": [
       "('Jasvee',\n",
       " 'Jasvee',\n",
       " 'Jasvee',\n",
       " 'Jasvee',\n",
       " 'Jasvee',\n",
       " 'Jasvee',\n",
       " 'Jasvee',\n",
       " 'Jasvee',\n",
       " 'Jasvee',\n",
       " 'Jasvee',\n",
       " 'Jasvee',\n",
       " 'Jasvee',\n",
       " 'Jasvee',\n",
       " 'Jasvee',\n",
       " 'Jasvee',\n",
       " 'Jasvee',\n",
       " 'Jasvee',\n",
       " 'Jasvee',\n",
       " 'Jasvee',\n",
       " 'Jasvee',\n",
       " 'Jasvee',\n",
       " 'Jasvee',\n",
       " 'Jasvee',\n",
       " 'Jasvee',\n",
       " 'Jasvee',\n",
       " 'Jasvee',\n",
       " 'Jasvee',\n",
       " 'Jasvee',\n",
       " 'Jasvee',\n",
       " 'Jasvee',\n",
       " 'Jasvee',\n",
       " 'Jasvee',\n",
       " 'Jasvee',\n",
       " 'Jasvee',\n",
       " 'Jasvee',\n",
       " 'Jasvee',\n",
       " 'Jasvee',\n",
       " 'Jasvee',\n",
       " 'Jasvee',\n",
       " 'Jasvee')"
      ]
     },
     "execution_count": 59,
     "metadata": {},
     "output_type": "execute_result"
    }
   ],
   "source": [
    "tup"
   ]
  },
  {
   "cell_type": "code",
   "execution_count": 60,
   "metadata": {},
   "outputs": [
    {
     "data": {
      "text/plain": [
       "['Paragraphs',\n",
       " 'add',\n",
       " 'broader',\n",
       " 'idea,',\n",
       " 'A',\n",
       " 'the',\n",
       " 'central,',\n",
       " 'called',\n",
       " 'unified',\n",
       " 'a',\n",
       " 'one',\n",
       " 'supports',\n",
       " 'about',\n",
       " 'paragraph',\n",
       " 'developing',\n",
       " 'argument.',\n",
       " 'time',\n",
       " 'of',\n",
       " 'is',\n",
       " 'thematic',\n",
       " 'in',\n",
       " 'think',\n",
       " 'sentence',\n",
       " 'group',\n",
       " 'series',\n",
       " 'idea',\n",
       " 'central',\n",
       " 'or',\n",
       " 'paragraphs',\n",
       " 'sentences',\n",
       " 'idea.',\n",
       " 'Try',\n",
       " 'to',\n",
       " 'that',\n",
       " 'terms',\n",
       " 'related',\n",
       " 'topic.',\n",
       " 'your',\n",
       " 'unity:',\n",
       " 'at']"
      ]
     },
     "execution_count": 60,
     "metadata": {},
     "output_type": "execute_result"
    }
   ],
   "source": [
    "lt"
   ]
  },
  {
   "cell_type": "code",
   "execution_count": 61,
   "metadata": {},
   "outputs": [
    {
     "name": "stdout",
     "output_type": "stream",
     "text": [
      "Key : name\tValue : Jasvee\n",
      "Key : Dob\tValue : 20/09/2018\n",
      "Key : lname\tValue : Adithri\n",
      "Key : year\tValue : 2018\n"
     ]
    }
   ],
   "source": [
    "dd = {'name' : 'Jasvee', \"Dob\" : \"20/09/2018\", \"lname\" : 'Adithri','year' : 2018}\n",
    "for i  in dd:\n",
    "    print(\"Key : {}\\tValue : {}\".format(i,dd[i]))"
   ]
  },
  {
   "cell_type": "code",
   "execution_count": 62,
   "metadata": {},
   "outputs": [
    {
     "data": {
      "text/plain": [
       "False"
      ]
     },
     "execution_count": 62,
     "metadata": {},
     "output_type": "execute_result"
    }
   ],
   "source": [
    "'neme' in dd"
   ]
  },
  {
   "cell_type": "code",
   "execution_count": 63,
   "metadata": {},
   "outputs": [
    {
     "data": {
      "text/plain": [
       "True"
      ]
     },
     "execution_count": 63,
     "metadata": {},
     "output_type": "execute_result"
    }
   ],
   "source": [
    "'name' in dd"
   ]
  },
  {
   "cell_type": "code",
   "execution_count": 64,
   "metadata": {},
   "outputs": [
    {
     "name": "stdout",
     "output_type": "stream",
     "text": [
      "not valid\n"
     ]
    }
   ],
   "source": [
    "for i in dd:\n",
    "    if i == \"year\":\n",
    "        if dd[i]> 2021:\n",
    "            print(\"valid\")\n",
    "        else:\n",
    "            print(\"not valid\")\n",
    "            dd[i] = 2021"
   ]
  },
  {
   "cell_type": "code",
   "execution_count": 65,
   "metadata": {},
   "outputs": [
    {
     "data": {
      "text/plain": [
       "{'name': 'Jasvee', 'Dob': '20/09/2018', 'lname': 'Adithri', 'year': 2021}"
      ]
     },
     "execution_count": 65,
     "metadata": {},
     "output_type": "execute_result"
    }
   ],
   "source": [
    "dd"
   ]
  },
  {
   "cell_type": "code",
   "execution_count": 67,
   "metadata": {},
   "outputs": [
    {
     "name": "stdout",
     "output_type": "stream",
     "text": [
      "valid\n"
     ]
    }
   ],
   "source": [
    "for i in dd:\n",
    "    if i == \"name\":\n",
    "        if dd[(i)] == 'Jasvee':\n",
    "            print(\"valid\")\n",
    "        else:\n",
    "            print(\"not valid\")\n",
    "            #dd[i] = 2021"
   ]
  },
  {
   "cell_type": "code",
   "execution_count": 68,
   "metadata": {},
   "outputs": [
    {
     "name": "stdout",
     "output_type": "stream",
     "text": [
      "e\n"
     ]
    },
    {
     "data": {
      "text/plain": [
       "['J', 'a', 's', 'v', 'e', 'e']"
      ]
     },
     "execution_count": 68,
     "metadata": {},
     "output_type": "execute_result"
    }
   ],
   "source": [
    "l = []\n",
    "for i in dd['name']:\n",
    "    l.append(i)\n",
    "print(i)\n",
    "l"
   ]
  },
  {
   "cell_type": "code",
   "execution_count": 69,
   "metadata": {},
   "outputs": [],
   "source": [
    "dd['name'] = 'Jasvee'"
   ]
  },
  {
   "cell_type": "code",
   "execution_count": 70,
   "metadata": {},
   "outputs": [
    {
     "name": "stdout",
     "output_type": "stream",
     "text": [
      "6\n"
     ]
    }
   ],
   "source": [
    "cnt = 0\n",
    "for i in dd['name']:\n",
    "    cnt = cnt + 1\n",
    "print(cnt)"
   ]
  },
  {
   "cell_type": "code",
   "execution_count": 71,
   "metadata": {},
   "outputs": [
    {
     "name": "stdout",
     "output_type": "stream",
     "text": [
      "Ok\n"
     ]
    }
   ],
   "source": [
    "cnt = 0\n",
    "for i in dd['name']:\n",
    "    cnt = cnt + 1\n",
    "if cnt < 6:\n",
    "    print('Should be greater than 8 chracters')\n",
    "else:\n",
    "    print(\"Ok\")"
   ]
  },
  {
   "cell_type": "code",
   "execution_count": 72,
   "metadata": {},
   "outputs": [
    {
     "data": {
      "text/plain": [
       "{0: 0, 1: 1, 2: 4, 3: 9, 4: 16}"
      ]
     },
     "execution_count": 72,
     "metadata": {},
     "output_type": "execute_result"
    }
   ],
   "source": [
    "#Dictionary comprehension\n",
    "{i:i*i for i in range(5)}"
   ]
  },
  {
   "cell_type": "code",
   "execution_count": 73,
   "metadata": {},
   "outputs": [
    {
     "data": {
      "text/plain": [
       "{0: 0, 1: 1, 2: 4, 3: 9, 4: 16}"
      ]
     },
     "execution_count": 73,
     "metadata": {},
     "output_type": "execute_result"
    }
   ],
   "source": [
    "cd ={}\n",
    "for i in range(5):\n",
    "    cd[i] = i*i\n",
    "cd"
   ]
  },
  {
   "cell_type": "code",
   "execution_count": null,
   "metadata": {},
   "outputs": [],
   "source": []
  }
 ],
 "metadata": {
  "kernelspec": {
   "display_name": "Python 3",
   "language": "python",
   "name": "python3"
  },
  "language_info": {
   "codemirror_mode": {
    "name": "ipython",
    "version": 3
   },
   "file_extension": ".py",
   "mimetype": "text/x-python",
   "name": "python",
   "nbconvert_exporter": "python",
   "pygments_lexer": "ipython3",
   "version": "3.7.4"
  }
 },
 "nbformat": 4,
 "nbformat_minor": 2
}
