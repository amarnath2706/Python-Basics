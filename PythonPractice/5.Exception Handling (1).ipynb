{
 "cells": [
  {
   "cell_type": "code",
   "execution_count": 1,
   "metadata": {},
   "outputs": [
    {
     "name": "stdout",
     "output_type": "stream",
     "text": [
      "some issue :  division by zero\n"
     ]
    }
   ],
   "source": [
    "try:\n",
    "    a = 5/0\n",
    "except ArithmeticError as A:\n",
    "    print('some issue : ', A)"
   ]
  },
  {
   "cell_type": "code",
   "execution_count": 2,
   "metadata": {},
   "outputs": [
    {
     "name": "stdout",
     "output_type": "stream",
     "text": [
      "Some issue :  division by zero\n"
     ]
    }
   ],
   "source": [
    "try:\n",
    "    a= 5/0\n",
    "except ArithmeticError as A:\n",
    "    print('Some issue : ', A)\n",
    "else:\n",
    "    print(\"Else block will execute once try block executed successfully\")"
   ]
  },
  {
   "cell_type": "code",
   "execution_count": 3,
   "metadata": {},
   "outputs": [
    {
     "name": "stdout",
     "output_type": "stream",
     "text": [
      "Else block will execute once try block executed successfully\n"
     ]
    }
   ],
   "source": [
    "try:\n",
    "    a= 5/5\n",
    "except ArithmeticError as A:\n",
    "    print('Some issue : ', A)\n",
    "else:\n",
    "    print(\"Else block will execute once try block executed successfully\")"
   ]
  },
  {
   "cell_type": "code",
   "execution_count": 4,
   "metadata": {},
   "outputs": [
    {
     "name": "stdout",
     "output_type": "stream",
     "text": [
      "Else block will execute once try block executed successfully\n",
      "[Errno 2] No such file or directory: 'test.log'\n"
     ]
    }
   ],
   "source": [
    "try:\n",
    "    a= 5/5\n",
    "except ArithmeticError as A:\n",
    "    print('Some issue : ', A)\n",
    "else:\n",
    "    print(\"Else block will execute once try block executed successfully\")\n",
    "    try:\n",
    "        f = open('test.log','r')\n",
    "    except IOError as I:\n",
    "        print(I)"
   ]
  },
  {
   "cell_type": "code",
   "execution_count": 5,
   "metadata": {},
   "outputs": [
    {
     "name": "stdout",
     "output_type": "stream",
     "text": [
      "Enter the first number20\n",
      "Enter the second number6\n",
      "Else block will execute once try block executed successfully\n",
      "[Errno 2] No such file or directory: 'exception.txt'\n"
     ]
    }
   ],
   "source": [
    "try:\n",
    "    a = int(input(\"Enter the first number\"))\n",
    "    b = int(input(\"Enter the second number\"))\n",
    "    c = a/b\n",
    "except ArithmeticError as A:\n",
    "    print('Error Occured : ', A)\n",
    "    f = open('exception.txt','w')\n",
    "    f.read()\n",
    "else:\n",
    "    print(\"Else block will execute once try block executed successfully\")\n",
    "    try:\n",
    "        f = open('exception.txt','r')\n",
    "    except IOError as I:\n",
    "        print(I)"
   ]
  },
  {
   "cell_type": "code",
   "execution_count": 7,
   "metadata": {},
   "outputs": [
    {
     "name": "stdout",
     "output_type": "stream",
     "text": [
      "Index Out of range\n"
     ]
    }
   ],
   "source": [
    "try:\n",
    "    l = [1,2,3,4,5]\n",
    "    l[20]\n",
    "except:\n",
    "    print(\"Index Out of range\")\n",
    "else:\n",
    "    t = (5,6,7,8)\n",
    "    print(t)"
   ]
  },
  {
   "cell_type": "code",
   "execution_count": 8,
   "metadata": {},
   "outputs": [
    {
     "name": "stdout",
     "output_type": "stream",
     "text": [
      "(5, 6, 7, 8)\n"
     ]
    }
   ],
   "source": [
    "try:\n",
    "    l = [1,2,3,4,5]\n",
    "    l[3]\n",
    "except:\n",
    "    print(\"Index Out of range\")\n",
    "else:\n",
    "    t = (5,6,7,8)\n",
    "    print(t)"
   ]
  },
  {
   "cell_type": "code",
   "execution_count": 13,
   "metadata": {},
   "outputs": [
    {
     "name": "stdout",
     "output_type": "stream",
     "text": [
      "[Errno 2] No such file or directory: 'test1.txt'\n",
      "I will execute in any case\n"
     ]
    }
   ],
   "source": [
    "#finally - Execute itself at any circumstances\n",
    "try:\n",
    "    f = open(\"test1.txt\",'r')\n",
    "except FileNotFoundError as F:\n",
    "    print(F)\n",
    "finally:\n",
    "    print(\"I will execute in any case\")"
   ]
  },
  {
   "cell_type": "code",
   "execution_count": 14,
   "metadata": {},
   "outputs": [
    {
     "name": "stdout",
     "output_type": "stream",
     "text": [
      "[Errno 2] No such file or directory: 'test1.txt'\n",
      "I will execute in any case\n"
     ]
    }
   ],
   "source": [
    "try:\n",
    "    f = open(\"test1.txt\",'r')\n",
    "except FileNotFoundError as F:\n",
    "    print(F)\n",
    "finally:\n",
    "    print(\"I will execute in any case\")\n",
    "    l = [4,5,6,7]\n",
    "    l[0]"
   ]
  },
  {
   "cell_type": "code",
   "execution_count": 16,
   "metadata": {},
   "outputs": [
    {
     "name": "stdout",
     "output_type": "stream",
     "text": [
      "Enter the inputer\n",
      "Error Ocuured invalid literal for int() with base 10: 'er'\n",
      "Thanks\n",
      "Enter the inputrr\n",
      "Error Ocuured invalid literal for int() with base 10: 'rr'\n",
      "Thanks\n",
      "Enter the inputert\n",
      "Error Ocuured invalid literal for int() with base 10: 'ert'\n",
      "Thanks\n",
      "Enter the inputasfa\n",
      "Error Ocuured invalid literal for int() with base 10: 'asfa'\n",
      "Thanks\n",
      "Enter the input1\n",
      "Your integer value :  1\n",
      "Thanks\n"
     ]
    }
   ],
   "source": [
    "def askint():\n",
    "    while True:\n",
    "        try:\n",
    "            a = int(input(\"Enter the input\"))\n",
    "        except Exception as e:\n",
    "            print(\"Error Ocuured\", e)\n",
    "        else:\n",
    "            print('Your integer value : ', a)\n",
    "            break\n",
    "        finally:\n",
    "            print(\"Thanks\")\n",
    "askint()"
   ]
  },
  {
   "cell_type": "code",
   "execution_count": 19,
   "metadata": {},
   "outputs": [
    {
     "ename": "Exception",
     "evalue": "('Value should be less than 10 and you have entered as : ', 2)",
     "output_type": "error",
     "traceback": [
      "\u001b[1;31m---------------------------------------------------------------------------\u001b[0m",
      "\u001b[1;31mException\u001b[0m                                 Traceback (most recent call last)",
      "\u001b[1;32m<ipython-input-19-2361b83979cb>\u001b[0m in \u001b[0;36m<module>\u001b[1;34m\u001b[0m\n\u001b[0;32m      6\u001b[0m         \u001b[0mprint\u001b[0m\u001b[1;33m(\u001b[0m\u001b[1;34m'Your input is good'\u001b[0m\u001b[1;33m)\u001b[0m\u001b[1;33m\u001b[0m\u001b[1;33m\u001b[0m\u001b[0m\n\u001b[0;32m      7\u001b[0m     \u001b[1;32mreturn\u001b[0m \u001b[0ma\u001b[0m\u001b[1;33m\u001b[0m\u001b[1;33m\u001b[0m\u001b[0m\n\u001b[1;32m----> 8\u001b[1;33m \u001b[0mcreate_exception\u001b[0m\u001b[1;33m(\u001b[0m\u001b[1;36m2\u001b[0m\u001b[1;33m)\u001b[0m\u001b[1;33m\u001b[0m\u001b[1;33m\u001b[0m\u001b[0m\n\u001b[0m\u001b[0;32m      9\u001b[0m \u001b[1;33m\u001b[0m\u001b[0m\n",
      "\u001b[1;32m<ipython-input-19-2361b83979cb>\u001b[0m in \u001b[0;36mcreate_exception\u001b[1;34m(a)\u001b[0m\n\u001b[0;32m      2\u001b[0m \u001b[1;32mdef\u001b[0m \u001b[0mcreate_exception\u001b[0m\u001b[1;33m(\u001b[0m\u001b[0ma\u001b[0m\u001b[1;33m)\u001b[0m\u001b[1;33m:\u001b[0m\u001b[1;33m\u001b[0m\u001b[1;33m\u001b[0m\u001b[0m\n\u001b[0;32m      3\u001b[0m     \u001b[1;32mif\u001b[0m \u001b[0ma\u001b[0m\u001b[1;33m<\u001b[0m\u001b[1;36m10\u001b[0m\u001b[1;33m:\u001b[0m\u001b[1;33m\u001b[0m\u001b[1;33m\u001b[0m\u001b[0m\n\u001b[1;32m----> 4\u001b[1;33m         \u001b[1;32mraise\u001b[0m \u001b[0mException\u001b[0m\u001b[1;33m(\u001b[0m\u001b[1;34m\"Value should be less than 10 and you have entered as : \"\u001b[0m\u001b[1;33m,\u001b[0m\u001b[0ma\u001b[0m\u001b[1;33m)\u001b[0m\u001b[1;33m\u001b[0m\u001b[1;33m\u001b[0m\u001b[0m\n\u001b[0m\u001b[0;32m      5\u001b[0m     \u001b[1;32melse\u001b[0m\u001b[1;33m:\u001b[0m\u001b[1;33m\u001b[0m\u001b[1;33m\u001b[0m\u001b[0m\n\u001b[0;32m      6\u001b[0m         \u001b[0mprint\u001b[0m\u001b[1;33m(\u001b[0m\u001b[1;34m'Your input is good'\u001b[0m\u001b[1;33m)\u001b[0m\u001b[1;33m\u001b[0m\u001b[1;33m\u001b[0m\u001b[0m\n",
      "\u001b[1;31mException\u001b[0m: ('Value should be less than 10 and you have entered as : ', 2)"
     ]
    }
   ],
   "source": [
    "#Generate our own exception\n",
    "def create_exception(a):\n",
    "    if a<10:\n",
    "        raise Exception(\"Value should be less than 10 and you have entered as : \",a)\n",
    "    else:\n",
    "        print('Your input is good')\n",
    "    return a\n",
    "create_exception(2)\n",
    "            "
   ]
  },
  {
   "cell_type": "code",
   "execution_count": 21,
   "metadata": {},
   "outputs": [
    {
     "name": "stdout",
     "output_type": "stream",
     "text": [
      "('Value should be less than 10 and you have entered as : ', 9)\n"
     ]
    }
   ],
   "source": [
    "try:\n",
    "    create_exception(9)\n",
    "except Exception as e:\n",
    "    print(e)"
   ]
  },
  {
   "cell_type": "code",
   "execution_count": null,
   "metadata": {},
   "outputs": [],
   "source": []
  }
 ],
 "metadata": {
  "kernelspec": {
   "display_name": "Python 3",
   "language": "python",
   "name": "python3"
  },
  "language_info": {
   "codemirror_mode": {
    "name": "ipython",
    "version": 3
   },
   "file_extension": ".py",
   "mimetype": "text/x-python",
   "name": "python",
   "nbconvert_exporter": "python",
   "pygments_lexer": "ipython3",
   "version": "3.7.4"
  }
 },
 "nbformat": 4,
 "nbformat_minor": 2
}
