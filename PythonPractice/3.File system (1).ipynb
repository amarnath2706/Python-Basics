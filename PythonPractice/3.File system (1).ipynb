{
 "cells": [
  {
   "cell_type": "code",
   "execution_count": 70,
   "metadata": {},
   "outputs": [],
   "source": [
    "f = open('test.txt','wb')"
   ]
  },
  {
   "cell_type": "code",
   "execution_count": 71,
   "metadata": {},
   "outputs": [],
   "source": [
    "f = open('test.txt','w')"
   ]
  },
  {
   "cell_type": "code",
   "execution_count": 72,
   "metadata": {},
   "outputs": [
    {
     "data": {
      "text/plain": [
       "26"
      ]
     },
     "execution_count": 72,
     "metadata": {},
     "output_type": "execute_result"
    }
   ],
   "source": [
    "f.write(\"Jasvee  Adithri Amar Ranju\")"
   ]
  },
  {
   "cell_type": "code",
   "execution_count": 73,
   "metadata": {},
   "outputs": [],
   "source": [
    "f.close()"
   ]
  },
  {
   "cell_type": "code",
   "execution_count": 74,
   "metadata": {},
   "outputs": [],
   "source": [
    "f=open('test.txt')"
   ]
  },
  {
   "cell_type": "code",
   "execution_count": 75,
   "metadata": {},
   "outputs": [
    {
     "data": {
      "text/plain": [
       "'Jasvee  Adithri Amar Ranju'"
      ]
     },
     "execution_count": 75,
     "metadata": {},
     "output_type": "execute_result"
    }
   ],
   "source": [
    "f.read()"
   ]
  },
  {
   "cell_type": "code",
   "execution_count": 76,
   "metadata": {},
   "outputs": [
    {
     "data": {
      "text/plain": [
       "''"
      ]
     },
     "execution_count": 76,
     "metadata": {},
     "output_type": "execute_result"
    }
   ],
   "source": [
    "f.read()\n"
   ]
  },
  {
   "cell_type": "code",
   "execution_count": 77,
   "metadata": {},
   "outputs": [
    {
     "data": {
      "text/plain": [
       "10"
      ]
     },
     "execution_count": 77,
     "metadata": {},
     "output_type": "execute_result"
    }
   ],
   "source": [
    "f.seek(10)"
   ]
  },
  {
   "cell_type": "code",
   "execution_count": 78,
   "metadata": {},
   "outputs": [
    {
     "data": {
      "text/plain": [
       "'ithri Amar Ranju'"
      ]
     },
     "execution_count": 78,
     "metadata": {},
     "output_type": "execute_result"
    }
   ],
   "source": [
    "f.read()"
   ]
  },
  {
   "cell_type": "code",
   "execution_count": 79,
   "metadata": {},
   "outputs": [
    {
     "data": {
      "text/plain": [
       "0"
      ]
     },
     "execution_count": 79,
     "metadata": {},
     "output_type": "execute_result"
    }
   ],
   "source": [
    "f.seek(0)"
   ]
  },
  {
   "cell_type": "code",
   "execution_count": 80,
   "metadata": {},
   "outputs": [
    {
     "data": {
      "text/plain": [
       "'Jasvee  Adithri Amar Ranju'"
      ]
     },
     "execution_count": 80,
     "metadata": {},
     "output_type": "execute_result"
    }
   ],
   "source": [
    "f.read()"
   ]
  },
  {
   "cell_type": "code",
   "execution_count": 81,
   "metadata": {},
   "outputs": [],
   "source": [
    "f=open('test.txt','r')\n"
   ]
  },
  {
   "cell_type": "code",
   "execution_count": 82,
   "metadata": {},
   "outputs": [
    {
     "ename": "UnsupportedOperation",
     "evalue": "not writable",
     "output_type": "error",
     "traceback": [
      "\u001b[1;31m---------------------------------------------------------------------------\u001b[0m",
      "\u001b[1;31mUnsupportedOperation\u001b[0m                      Traceback (most recent call last)",
      "\u001b[1;32m<ipython-input-82-9658c070498a>\u001b[0m in \u001b[0;36m<module>\u001b[1;34m\u001b[0m\n\u001b[1;32m----> 1\u001b[1;33m \u001b[0mf\u001b[0m\u001b[1;33m.\u001b[0m\u001b[0mwrite\u001b[0m\u001b[1;33m(\u001b[0m\u001b[1;34m'Kia'\u001b[0m\u001b[1;33m)\u001b[0m\u001b[1;33m\u001b[0m\u001b[1;33m\u001b[0m\u001b[0m\n\u001b[0m",
      "\u001b[1;31mUnsupportedOperation\u001b[0m: not writable"
     ]
    }
   ],
   "source": [
    "f.write('Kia')"
   ]
  },
  {
   "cell_type": "code",
   "execution_count": 83,
   "metadata": {},
   "outputs": [
    {
     "data": {
      "text/plain": [
       "'Jasvee  Adithri Amar Ranj'"
      ]
     },
     "execution_count": 83,
     "metadata": {},
     "output_type": "execute_result"
    }
   ],
   "source": [
    "f.read(25)"
   ]
  },
  {
   "cell_type": "code",
   "execution_count": 84,
   "metadata": {},
   "outputs": [],
   "source": [
    "f.close()"
   ]
  },
  {
   "cell_type": "code",
   "execution_count": 85,
   "metadata": {},
   "outputs": [
    {
     "ename": "ValueError",
     "evalue": "I/O operation on closed file.",
     "output_type": "error",
     "traceback": [
      "\u001b[1;31m---------------------------------------------------------------------------\u001b[0m",
      "\u001b[1;31mValueError\u001b[0m                                Traceback (most recent call last)",
      "\u001b[1;32m<ipython-input-85-571e9fb02258>\u001b[0m in \u001b[0;36m<module>\u001b[1;34m\u001b[0m\n\u001b[1;32m----> 1\u001b[1;33m \u001b[0mf\u001b[0m\u001b[1;33m.\u001b[0m\u001b[0mread\u001b[0m\u001b[1;33m(\u001b[0m\u001b[1;33m)\u001b[0m\u001b[1;33m\u001b[0m\u001b[1;33m\u001b[0m\u001b[0m\n\u001b[0m",
      "\u001b[1;31mValueError\u001b[0m: I/O operation on closed file."
     ]
    }
   ],
   "source": [
    "f.read()"
   ]
  },
  {
   "cell_type": "code",
   "execution_count": 86,
   "metadata": {},
   "outputs": [],
   "source": [
    "import os"
   ]
  },
  {
   "cell_type": "code",
   "execution_count": 87,
   "metadata": {},
   "outputs": [
    {
     "data": {
      "text/plain": [
       "'D:\\\\'"
      ]
     },
     "execution_count": 87,
     "metadata": {},
     "output_type": "execute_result"
    }
   ],
   "source": [
    "pwd()"
   ]
  },
  {
   "cell_type": "code",
   "execution_count": 88,
   "metadata": {},
   "outputs": [
    {
     "data": {
      "text/plain": [
       "'D:\\\\'"
      ]
     },
     "execution_count": 88,
     "metadata": {},
     "output_type": "execute_result"
    }
   ],
   "source": [
    "os.getcwd()"
   ]
  },
  {
   "cell_type": "code",
   "execution_count": 89,
   "metadata": {},
   "outputs": [
    {
     "data": {
      "text/plain": [
       "['$RECYCLE.BIN',\n",
       " 'Amar',\n",
       " 'AMAR pendrive backup',\n",
       " 'Anaconda3',\n",
       " 'Apowersoft Screen Recorder Temp',\n",
       " 'Jasvee.txt',\n",
       " 'JasveeAdithri',\n",
       " 'msdownld.tmp',\n",
       " 'pendrive backup',\n",
       " 'Program Files',\n",
       " 'PyCharm Community Edition 2019.3.3',\n",
       " 'Rec',\n",
       " 'System Volume Information',\n",
       " 'test',\n",
       " 'test.txt']"
      ]
     },
     "execution_count": 89,
     "metadata": {},
     "output_type": "execute_result"
    }
   ],
   "source": [
    "os.listdir()"
   ]
  },
  {
   "cell_type": "code",
   "execution_count": 90,
   "metadata": {},
   "outputs": [
    {
     "data": {
      "text/plain": [
       "['.ipynb_checkpoints',\n",
       " '1.Task 1 - Class 1 (1).ipynb',\n",
       " '1.Task 1 - Class 1.ipynb',\n",
       " '13thmarch.ipynb',\n",
       " '14th March - List Manipulations.ipynb',\n",
       " '2.JPG',\n",
       " '4.20th march Tuple,Set and Dict.ipynb',\n",
       " '5.21st March - Functions.ipynb',\n",
       " '500-AI-Machine-learning-Deep-learning-Computer-vision-NLP-Projects-with-code-main.zip',\n",
       " '6th and 7th March.ipynb',\n",
       " 'Advance Deep Learning Final..pdf',\n",
       " 'Air Quality Index',\n",
       " 'AlbumArtSmall.jpg',\n",
       " 'AlbumArt_{B5020207-474E-4720-1EBE-7D12D351D300}_Large.jpg',\n",
       " 'AlbumArt_{B5020207-474E-4720-1EBE-7D12D351D300}_Small.jpg',\n",
       " 'AlbumArt_{B5020207-474E-4720-4CCD-2E00C6754900}_Large.jpg',\n",
       " 'AlbumArt_{B5020207-474E-4720-4CCD-2E00C6754900}_Small.jpg',\n",
       " 'AlbumArt_{B5020207-474E-4720-C8E8-FF3E86818300}_Large.jpg',\n",
       " 'AlbumArt_{B5020207-474E-4720-C8E8-FF3E86818300}_Small.jpg',\n",
       " 'AlexNet-Cat and Dog Classification (1).ipynb',\n",
       " 'AlexNet-Cat and Dog Classification.ipynb',\n",
       " 'Amar',\n",
       " 'Amarnath',\n",
       " 'AMARNATH-D_New Resume.docx',\n",
       " 'archive (1)',\n",
       " 'archive (1).zip',\n",
       " 'archive (2)',\n",
       " 'archive.zip',\n",
       " 'AU-SEBLite-Chrome.msi',\n",
       " 'Audi1.jpg',\n",
       " 'Augmentor-0.2.8-py2.py3-none-any.whl',\n",
       " 'B9ECED6F.ASUSPCAssistant_qmba6cd70vzyy!App',\n",
       " 'Briyani.png',\n",
       " 'Cars',\n",
       " 'Cat and Dog',\n",
       " 'chromedriver_win32',\n",
       " 'chromedriver_win32.zip',\n",
       " 'Classification-Another Method.ipynb',\n",
       " 'Classification_Colab (1).ipynb',\n",
       " 'Classification_Colab.ipynb',\n",
       " 'clustering-20201225T051434Z-001',\n",
       " 'cmake-3.19.3-win64-x64',\n",
       " 'cmake-3.19.3-win64-x64.msi',\n",
       " 'cmake-3.19.3-win64-x64.zip',\n",
       " 'code form iNeuron-20201223T061431Z-001.zip',\n",
       " 'complete yolo v3 yolo v4 custom object detection latest a  tutorial easy  100% working.mp4',\n",
       " 'Cotton Disease',\n",
       " 'Cotton Disease - VGG16.ipynb',\n",
       " 'Cotton Disease Prediction - Resnet 50.ipynb',\n",
       " 'Cotton Disease Prediction - VGG16.ipynb',\n",
       " 'Cotton Disease Prediction - VGG19 (1).ipynb',\n",
       " 'Cotton Disease Prediction - VGG19.ipynb',\n",
       " 'Courses.pdf',\n",
       " 'cudnn-10.1-windows10-x64-v7.6.4.38',\n",
       " 'cudnn-10.1-windows10-x64-v7.6.4.38.zip',\n",
       " 'CVFasttrack',\n",
       " 'd1.jpg',\n",
       " 'Darknet',\n",
       " 'darknet-master',\n",
       " 'darknet-master.zip',\n",
       " 'Data',\n",
       " 'dataAugmentation',\n",
       " 'dataAugmentation.zip',\n",
       " 'DataAugumentation',\n",
       " 'DataAugumentation (1).ipynb',\n",
       " 'DataAugumentation.ipynb',\n",
       " 'DataAugumentation1 (1).ipynb',\n",
       " 'DataAugumentation1.ipynb',\n",
       " 'debug.log',\n",
       " 'Decision tree',\n",
       " 'desktop.ini',\n",
       " 'Detectron2Session',\n",
       " 'Detectron2Session.zip',\n",
       " 'DL Security ActionRecognition-20210215T121545Z-001.zip',\n",
       " 'DL Security ActionRecognition-20210405T015910Z-001.zip',\n",
       " 'DL1.7z',\n",
       " 'DogCatClassifier',\n",
       " 'DogCatClassifier.zip',\n",
       " 'dolby-vision (1).mp3',\n",
       " 'dolby-vision.mp3',\n",
       " 'Dosai.png',\n",
       " 'download (1).jpeg',\n",
       " 'download.png',\n",
       " 'ensemble_boosting-1',\n",
       " 'Feature-Engineering-Live-sessions-master',\n",
       " 'Fileop',\n",
       " 'firstFlask_withHeroku',\n",
       " 'Folder.jpg',\n",
       " 'Full Stack',\n",
       " 'Gaandu Kannamma (2020).zip',\n",
       " 'GMC.jpg',\n",
       " 'GMT20210204 143004 doubt clea 1920x1080.mp4',\n",
       " 'hotel-management-system-in-python-master',\n",
       " 'How to Build and Install OpenCV from Source _ Using Visual Studio and CMake _ Computer Vision.mp4',\n",
       " 'Image_Classification.ipynb',\n",
       " 'induction -20210228T124844Z-001.zip',\n",
       " 'Kaadhal-En-Kaviye-MassTamilan.io.mp3',\n",
       " 'Lenet-Cat and Dog Classification.ipynb',\n",
       " 'LinearRegression-master',\n",
       " 'logging',\n",
       " 'logging1',\n",
       " 'Logistic-regression_final (2)',\n",
       " 'MASKRCNNlabelme_with_TFOD',\n",
       " 'MASKRCNNlabelme_with_TFOD.zip',\n",
       " 'mask_rcnn_inception_v2_coco_2018_01_28',\n",
       " 'mask_rcnn_inception_v2_coco_2018_01_28.tar.gz',\n",
       " 'May8th.ipynb',\n",
       " 'megatron-20210209T094527Z-001.zip',\n",
       " 'megatron-20210209T100117Z-001.zip',\n",
       " 'Multicollinearity-master',\n",
       " 'Multicollinearity-master.zip',\n",
       " 'Multiple-Linear-Regression-master',\n",
       " 'Multiple-Linear-Regression-master (1).zip',\n",
       " 'MultipleLinearRegression',\n",
       " 'New folder',\n",
       " 'New folder.zip',\n",
       " 'NLP',\n",
       " 'OpenCV',\n",
       " 'opencv-4.5.1',\n",
       " 'opencv-4.5.1.zip',\n",
       " 'opencv_contrib-4.5.1',\n",
       " 'opencv_contrib-4.5.1.zip',\n",
       " 'Per Vachaalum Vaikkaama-Masstamilan.In.mp3',\n",
       " 'polestar2.jpg',\n",
       " 'Poori.png',\n",
       " 'Projects',\n",
       " 'python basic.ipynb',\n",
       " 'python-3.7.9-amd64.exe',\n",
       " 'python_projects_grocery_webapp-main',\n",
       " 'PyTorch 1.1.ipynb',\n",
       " 'Pytorch.ipynb',\n",
       " 'Rain.mp3',\n",
       " 'RegressionandLasso-master',\n",
       " 'RegressionandLasso-master (1)',\n",
       " 'RegressionandLasso-master (1).zip',\n",
       " 'Rendu Kaadhal-Masstamilan.In.mp3',\n",
       " 'reviewScrapper-20201214T055154Z-001',\n",
       " 'SAVED_MODELS',\n",
       " 'Section6-20210319T062114Z-001.zip',\n",
       " 'Section8-20210320T015538Z-001.zip',\n",
       " 'sensors-18-02560.pdf',\n",
       " 'simple-python-camera-viewer-opencv3-PyQt5-master',\n",
       " 'simple-python-camera-viewer-opencv3-PyQt5-master.zip',\n",
       " 'So Baby-Masstamilan.In.mp3',\n",
       " 'Takkunu-Takkunu-MassTamilan.org.mp3',\n",
       " 'Tensorflow1.x.ipynb',\n",
       " 'Tensorflow2.x.ipynb',\n",
       " 'test.log',\n",
       " 'tfod (1).sh',\n",
       " 'tfod.sh',\n",
       " 'Training Set, Validation Set and Test Set in Machine Learning ( ML ).mp4',\n",
       " 'Transfer Learning Inception_V3- Cat and Dog Classification.ipynb',\n",
       " 'Transfer Learning Resnet18 - Cat and Dog Classification.ipynb',\n",
       " 'Transfer Learning Resnet50 - Cat and Dog Classification.ipynb',\n",
       " 'Transfer Learning VGG16 - Cat and Dog Classification(Sigmoid).ipynb',\n",
       " 'Transfer Learning VGG16 - Cat and Dog Classification.ipynb',\n",
       " 'Transfer Learning VGG16_ Krish',\n",
       " 'Transfer Learning VGG16_ Krish.zip',\n",
       " 'Transfer Learning VGG19 - Cat and Dog Classification.ipynb',\n",
       " 'Vera Level Sago-Masstamilan.in.mp3',\n",
       " 'videoplayback.mp4',\n",
       " 'visualcppbuildtools_full.exe',\n",
       " 'vs_buildtools__1471673722.1611294835.exe',\n",
       " 'vs_Community.exe',\n",
       " 'Yaazha Yaazha -Masstamilan.in.mp3',\n",
       " 'Yolo Darknet Installation.docx',\n",
       " 'Yolo files',\n",
       " 'yolov3.weights',\n",
       " 'Zoom_cm_fo42anktZ9vvrZo4_mwVb57O+7M8aUUmhuDdvTwjPtyktFRmtiX+J-@uYrEvt5wEN3qaZiG_k11cf8750a3cc1437_.exe']"
      ]
     },
     "execution_count": 90,
     "metadata": {},
     "output_type": "execute_result"
    }
   ],
   "source": [
    "os.listdir(\"C:\\\\Users\\\\Asus-2020\\\\Downloads\\\\\")"
   ]
  },
  {
   "cell_type": "code",
   "execution_count": 91,
   "metadata": {},
   "outputs": [],
   "source": [
    "os.chdir(\"D:\\\\\")"
   ]
  },
  {
   "cell_type": "code",
   "execution_count": 92,
   "metadata": {},
   "outputs": [
    {
     "data": {
      "text/plain": [
       "['$RECYCLE.BIN',\n",
       " 'Amar',\n",
       " 'AMAR pendrive backup',\n",
       " 'Anaconda3',\n",
       " 'Apowersoft Screen Recorder Temp',\n",
       " 'Jasvee.txt',\n",
       " 'JasveeAdithri',\n",
       " 'msdownld.tmp',\n",
       " 'pendrive backup',\n",
       " 'Program Files',\n",
       " 'PyCharm Community Edition 2019.3.3',\n",
       " 'Rec',\n",
       " 'System Volume Information',\n",
       " 'test',\n",
       " 'test.txt']"
      ]
     },
     "execution_count": 92,
     "metadata": {},
     "output_type": "execute_result"
    }
   ],
   "source": [
    "os.listdir()"
   ]
  },
  {
   "cell_type": "code",
   "execution_count": 93,
   "metadata": {},
   "outputs": [
    {
     "ename": "FileExistsError",
     "evalue": "[WinError 183] Cannot create a file when that file already exists: 'test'",
     "output_type": "error",
     "traceback": [
      "\u001b[1;31m---------------------------------------------------------------------------\u001b[0m",
      "\u001b[1;31mFileExistsError\u001b[0m                           Traceback (most recent call last)",
      "\u001b[1;32m<ipython-input-93-649df206c3ee>\u001b[0m in \u001b[0;36m<module>\u001b[1;34m\u001b[0m\n\u001b[1;32m----> 1\u001b[1;33m \u001b[0mos\u001b[0m\u001b[1;33m.\u001b[0m\u001b[0mmkdir\u001b[0m\u001b[1;33m(\u001b[0m\u001b[1;34m'test'\u001b[0m\u001b[1;33m)\u001b[0m\u001b[1;33m\u001b[0m\u001b[1;33m\u001b[0m\u001b[0m\n\u001b[0m",
      "\u001b[1;31mFileExistsError\u001b[0m: [WinError 183] Cannot create a file when that file already exists: 'test'"
     ]
    }
   ],
   "source": [
    "os.mkdir('test')"
   ]
  },
  {
   "cell_type": "code",
   "execution_count": 94,
   "metadata": {},
   "outputs": [
    {
     "name": "stdout",
     "output_type": "stream",
     "text": [
      "File available in this dir\n"
     ]
    }
   ],
   "source": [
    "#Check whether file is already there or not\n",
    "if \"test.txt\" in os.listdir(\"D:\\\\test\\\\\"):\n",
    "    print(\"File available in this dir\")\n",
    "else:\n",
    "    print(\"file not available\")"
   ]
  },
  {
   "cell_type": "code",
   "execution_count": 95,
   "metadata": {},
   "outputs": [
    {
     "data": {
      "text/plain": [
       "'D:\\\\'"
      ]
     },
     "execution_count": 95,
     "metadata": {},
     "output_type": "execute_result"
    }
   ],
   "source": [
    "pwd()"
   ]
  },
  {
   "cell_type": "code",
   "execution_count": 96,
   "metadata": {},
   "outputs": [
    {
     "data": {
      "text/plain": [
       "['$RECYCLE.BIN',\n",
       " 'Amar',\n",
       " 'AMAR pendrive backup',\n",
       " 'Anaconda3',\n",
       " 'Apowersoft Screen Recorder Temp',\n",
       " 'Jasvee.txt',\n",
       " 'JasveeAdithri',\n",
       " 'msdownld.tmp',\n",
       " 'pendrive backup',\n",
       " 'Program Files',\n",
       " 'PyCharm Community Edition 2019.3.3',\n",
       " 'Rec',\n",
       " 'System Volume Information',\n",
       " 'test',\n",
       " 'test.txt']"
      ]
     },
     "execution_count": 96,
     "metadata": {},
     "output_type": "execute_result"
    }
   ],
   "source": [
    "os.listdir()"
   ]
  },
  {
   "cell_type": "code",
   "execution_count": 97,
   "metadata": {},
   "outputs": [
    {
     "name": "stdout",
     "output_type": "stream",
     "text": [
      "File available in this dir\n",
      "Jasvee  Adithri Amar Ranju\n"
     ]
    }
   ],
   "source": [
    "\n",
    "#file is exist or not\n",
    "if \"test.txt\" in os.listdir(\"D:\\\\test\\\\\"):\n",
    "    print(\"File available in this dir\")\n",
    "    f = open(\"test.txt\",'r+')\n",
    "    #f.read()\n",
    "    #print(f)\n",
    "    for i in f:\n",
    "        print(i)\n",
    "else:\n",
    "    print(\"file not available\")"
   ]
  },
  {
   "cell_type": "code",
   "execution_count": 98,
   "metadata": {},
   "outputs": [
    {
     "ename": "FileExistsError",
     "evalue": "[WinError 183] Cannot create a file when that file already exists: 'JasveeAdithri'",
     "output_type": "error",
     "traceback": [
      "\u001b[1;31m---------------------------------------------------------------------------\u001b[0m",
      "\u001b[1;31mFileExistsError\u001b[0m                           Traceback (most recent call last)",
      "\u001b[1;32m<ipython-input-98-01dc029d02b0>\u001b[0m in \u001b[0;36m<module>\u001b[1;34m\u001b[0m\n\u001b[0;32m      1\u001b[0m \u001b[1;31m#file already exixts dont create and if file not exist create a new one.\u001b[0m\u001b[1;33m\u001b[0m\u001b[1;33m\u001b[0m\u001b[1;33m\u001b[0m\u001b[0m\n\u001b[0;32m      2\u001b[0m \u001b[1;32mif\u001b[0m \u001b[1;32mnot\u001b[0m \u001b[0mos\u001b[0m\u001b[1;33m.\u001b[0m\u001b[0mpath\u001b[0m\u001b[1;33m.\u001b[0m\u001b[0misdir\u001b[0m\u001b[1;33m(\u001b[0m\u001b[1;34m'test1'\u001b[0m\u001b[1;33m)\u001b[0m\u001b[1;33m:\u001b[0m\u001b[1;33m\u001b[0m\u001b[1;33m\u001b[0m\u001b[0m\n\u001b[1;32m----> 3\u001b[1;33m     \u001b[0mos\u001b[0m\u001b[1;33m.\u001b[0m\u001b[0mmkdir\u001b[0m\u001b[1;33m(\u001b[0m\u001b[1;34m'JasveeAdithri'\u001b[0m\u001b[1;33m)\u001b[0m\u001b[1;33m\u001b[0m\u001b[1;33m\u001b[0m\u001b[0m\n\u001b[0m",
      "\u001b[1;31mFileExistsError\u001b[0m: [WinError 183] Cannot create a file when that file already exists: 'JasveeAdithri'"
     ]
    }
   ],
   "source": [
    "#file already exixts dont create and if file not exist create a new one.\n",
    "if not os.path.isdir('test1'):\n",
    "    os.mkdir('JasveeAdithri')"
   ]
  },
  {
   "cell_type": "code",
   "execution_count": 99,
   "metadata": {},
   "outputs": [
    {
     "ename": "PermissionError",
     "evalue": "[WinError 32] The process cannot access the file because it is being used by another process: 'test.txt' -> 'Jasvee.txt'",
     "output_type": "error",
     "traceback": [
      "\u001b[1;31m---------------------------------------------------------------------------\u001b[0m",
      "\u001b[1;31mPermissionError\u001b[0m                           Traceback (most recent call last)",
      "\u001b[1;32m<ipython-input-99-50dc24dedc14>\u001b[0m in \u001b[0;36m<module>\u001b[1;34m\u001b[0m\n\u001b[0;32m      1\u001b[0m \u001b[1;31m#rename the file\u001b[0m\u001b[1;33m\u001b[0m\u001b[1;33m\u001b[0m\u001b[1;33m\u001b[0m\u001b[0m\n\u001b[1;32m----> 2\u001b[1;33m \u001b[0mos\u001b[0m\u001b[1;33m.\u001b[0m\u001b[0mrename\u001b[0m\u001b[1;33m(\u001b[0m\u001b[1;34m'test.txt'\u001b[0m\u001b[1;33m,\u001b[0m\u001b[1;34m'Jasvee.txt'\u001b[0m\u001b[1;33m)\u001b[0m\u001b[1;33m\u001b[0m\u001b[1;33m\u001b[0m\u001b[0m\n\u001b[0m",
      "\u001b[1;31mPermissionError\u001b[0m: [WinError 32] The process cannot access the file because it is being used by another process: 'test.txt' -> 'Jasvee.txt'"
     ]
    }
   ],
   "source": [
    "#rename the file\n",
    "os.rename('test.txt','Jasvee.txt')"
   ]
  },
  {
   "cell_type": "code",
   "execution_count": 100,
   "metadata": {},
   "outputs": [],
   "source": [
    "f=open('test.txt','r+')\n"
   ]
  },
  {
   "cell_type": "code",
   "execution_count": 101,
   "metadata": {},
   "outputs": [],
   "source": [
    "f.close()"
   ]
  },
  {
   "cell_type": "code",
   "execution_count": 102,
   "metadata": {},
   "outputs": [
    {
     "ename": "OSError",
     "evalue": "[WinError 145] The directory is not empty: 'test'",
     "output_type": "error",
     "traceback": [
      "\u001b[1;31m---------------------------------------------------------------------------\u001b[0m",
      "\u001b[1;31mOSError\u001b[0m                                   Traceback (most recent call last)",
      "\u001b[1;32m<ipython-input-102-b2fa94091ed2>\u001b[0m in \u001b[0;36m<module>\u001b[1;34m\u001b[0m\n\u001b[0;32m      1\u001b[0m \u001b[1;31m#remove dir\u001b[0m\u001b[1;33m\u001b[0m\u001b[1;33m\u001b[0m\u001b[1;33m\u001b[0m\u001b[0m\n\u001b[1;32m----> 2\u001b[1;33m \u001b[0mos\u001b[0m\u001b[1;33m.\u001b[0m\u001b[0mrmdir\u001b[0m\u001b[1;33m(\u001b[0m\u001b[1;34m\"test\"\u001b[0m\u001b[1;33m)\u001b[0m\u001b[1;33m\u001b[0m\u001b[1;33m\u001b[0m\u001b[0m\n\u001b[0m",
      "\u001b[1;31mOSError\u001b[0m: [WinError 145] The directory is not empty: 'test'"
     ]
    }
   ],
   "source": [
    "#remove dir\n",
    "os.rmdir(\"test\")"
   ]
  },
  {
   "cell_type": "code",
   "execution_count": 103,
   "metadata": {},
   "outputs": [
    {
     "data": {
      "text/plain": [
       "'D:\\\\'"
      ]
     },
     "execution_count": 103,
     "metadata": {},
     "output_type": "execute_result"
    }
   ],
   "source": [
    "pwd"
   ]
  },
  {
   "cell_type": "code",
   "execution_count": 104,
   "metadata": {},
   "outputs": [
    {
     "ename": "Error",
     "evalue": "Destination path 'D:\\test\\newdir' already exists",
     "output_type": "error",
     "traceback": [
      "\u001b[1;31m---------------------------------------------------------------------------\u001b[0m",
      "\u001b[1;31mError\u001b[0m                                     Traceback (most recent call last)",
      "\u001b[1;32m<ipython-input-104-f4b09f6c6626>\u001b[0m in \u001b[0;36m<module>\u001b[1;34m\u001b[0m\n\u001b[0;32m      1\u001b[0m \u001b[1;31m#Move\u001b[0m\u001b[1;33m\u001b[0m\u001b[1;33m\u001b[0m\u001b[1;33m\u001b[0m\u001b[0m\n\u001b[0;32m      2\u001b[0m \u001b[1;32mimport\u001b[0m \u001b[0mshutil\u001b[0m\u001b[1;33m\u001b[0m\u001b[1;33m\u001b[0m\u001b[0m\n\u001b[1;32m----> 3\u001b[1;33m \u001b[0mshutil\u001b[0m\u001b[1;33m.\u001b[0m\u001b[0mmove\u001b[0m\u001b[1;33m(\u001b[0m\u001b[1;34m\"D:\\\\newdir\"\u001b[0m\u001b[1;33m,\u001b[0m \u001b[1;34m\"D:\\\\test\"\u001b[0m\u001b[1;33m)\u001b[0m\u001b[1;33m\u001b[0m\u001b[1;33m\u001b[0m\u001b[0m\n\u001b[0m",
      "\u001b[1;32mD:\\Anaconda3\\lib\\shutil.py\u001b[0m in \u001b[0;36mmove\u001b[1;34m(src, dst, copy_function)\u001b[0m\n\u001b[0;32m    562\u001b[0m         \u001b[0mreal_dst\u001b[0m \u001b[1;33m=\u001b[0m \u001b[0mos\u001b[0m\u001b[1;33m.\u001b[0m\u001b[0mpath\u001b[0m\u001b[1;33m.\u001b[0m\u001b[0mjoin\u001b[0m\u001b[1;33m(\u001b[0m\u001b[0mdst\u001b[0m\u001b[1;33m,\u001b[0m \u001b[0m_basename\u001b[0m\u001b[1;33m(\u001b[0m\u001b[0msrc\u001b[0m\u001b[1;33m)\u001b[0m\u001b[1;33m)\u001b[0m\u001b[1;33m\u001b[0m\u001b[1;33m\u001b[0m\u001b[0m\n\u001b[0;32m    563\u001b[0m         \u001b[1;32mif\u001b[0m \u001b[0mos\u001b[0m\u001b[1;33m.\u001b[0m\u001b[0mpath\u001b[0m\u001b[1;33m.\u001b[0m\u001b[0mexists\u001b[0m\u001b[1;33m(\u001b[0m\u001b[0mreal_dst\u001b[0m\u001b[1;33m)\u001b[0m\u001b[1;33m:\u001b[0m\u001b[1;33m\u001b[0m\u001b[1;33m\u001b[0m\u001b[0m\n\u001b[1;32m--> 564\u001b[1;33m             \u001b[1;32mraise\u001b[0m \u001b[0mError\u001b[0m\u001b[1;33m(\u001b[0m\u001b[1;34m\"Destination path '%s' already exists\"\u001b[0m \u001b[1;33m%\u001b[0m \u001b[0mreal_dst\u001b[0m\u001b[1;33m)\u001b[0m\u001b[1;33m\u001b[0m\u001b[1;33m\u001b[0m\u001b[0m\n\u001b[0m\u001b[0;32m    565\u001b[0m     \u001b[1;32mtry\u001b[0m\u001b[1;33m:\u001b[0m\u001b[1;33m\u001b[0m\u001b[1;33m\u001b[0m\u001b[0m\n\u001b[0;32m    566\u001b[0m         \u001b[0mos\u001b[0m\u001b[1;33m.\u001b[0m\u001b[0mrename\u001b[0m\u001b[1;33m(\u001b[0m\u001b[0msrc\u001b[0m\u001b[1;33m,\u001b[0m \u001b[0mreal_dst\u001b[0m\u001b[1;33m)\u001b[0m\u001b[1;33m\u001b[0m\u001b[1;33m\u001b[0m\u001b[0m\n",
      "\u001b[1;31mError\u001b[0m: Destination path 'D:\\test\\newdir' already exists"
     ]
    }
   ],
   "source": [
    "#Move\n",
    "import shutil\n",
    "shutil.move(\"D:\\\\newdir\", \"D:\\\\test\")"
   ]
  },
  {
   "cell_type": "code",
   "execution_count": 105,
   "metadata": {},
   "outputs": [],
   "source": [
    "\n",
    "#1.create a new directory \n",
    "#2.create 10 txt files and write same data or some string into all txt files at a time\n",
    "#3.Read all the data from dir/file and print in the console\n",
    "#4.hold all the data into a single list\n",
    "#5.write all the data in a new file(single file) from list\n",
    "#6.Keep only a new file in the directory and move rest in the new directory."
   ]
  },
  {
   "cell_type": "code",
   "execution_count": 108,
   "metadata": {},
   "outputs": [],
   "source": [
    "#1.create a new directory \n",
    "import os\n",
    "os.mkdir('task')"
   ]
  },
  {
   "cell_type": "code",
   "execution_count": 114,
   "metadata": {},
   "outputs": [],
   "source": [
    "#2.create 10 txt files and write same data or some string into all txt files at a time\n",
    "for i in range(0,10):\n",
    "    fname = \"D:\\\\task\\\\test\"+str(i)+\".txt\"\n",
    "    f = open(fname,'w')\n",
    "    f.write(\"Jasvee  Adithri Amar Ranju\")\n",
    "    f.close()\n",
    "\n",
    "    "
   ]
  },
  {
   "cell_type": "code",
   "execution_count": 120,
   "metadata": {},
   "outputs": [],
   "source": [
    "#change directory\n",
    "os.chdir(\"D:\\\\task\")"
   ]
  },
  {
   "cell_type": "code",
   "execution_count": 121,
   "metadata": {},
   "outputs": [
    {
     "data": {
      "text/plain": [
       "['test0.txt',\n",
       " 'test1.txt',\n",
       " 'test2.txt',\n",
       " 'test3.txt',\n",
       " 'test4.txt',\n",
       " 'test5.txt',\n",
       " 'test6.txt',\n",
       " 'test7.txt',\n",
       " 'test8.txt',\n",
       " 'test9.txt']"
      ]
     },
     "execution_count": 121,
     "metadata": {},
     "output_type": "execute_result"
    }
   ],
   "source": [
    "#3.Read all the data from dir/file and print in the console\n",
    "lst = os.listdir()\n",
    "lst\n"
   ]
  },
  {
   "cell_type": "code",
   "execution_count": 122,
   "metadata": {},
   "outputs": [
    {
     "name": "stdout",
     "output_type": "stream",
     "text": [
      "Jasvee  Adithri Amar Ranju\n",
      "Jasvee  Adithri Amar Ranju\n",
      "Jasvee  Adithri Amar Ranju\n",
      "Jasvee  Adithri Amar Ranju\n",
      "Jasvee  Adithri Amar Ranju\n",
      "Jasvee  Adithri Amar Ranju\n",
      "Jasvee  Adithri Amar Ranju\n",
      "Jasvee  Adithri Amar Ranju\n",
      "Jasvee  Adithri Amar Ranju\n",
      "Jasvee  Adithri Amar Ranju\n"
     ]
    }
   ],
   "source": [
    "for i in lst:\n",
    "    f = open(i,'r')\n",
    "    print(f.read())\n",
    "    f.close()"
   ]
  },
  {
   "cell_type": "code",
   "execution_count": 123,
   "metadata": {},
   "outputs": [
    {
     "name": "stdout",
     "output_type": "stream",
     "text": [
      "['J', 'a', 's', 'v', 'e', 'e', ' ', ' ', 'A', 'd', 'i', 't', 'h', 'r', 'i', ' ', 'A', 'm', 'a', 'r', ' ', 'R', 'a', 'n', 'j', 'u', 'J', 'a', 's', 'v', 'e', 'e', ' ', ' ', 'A', 'd', 'i', 't', 'h', 'r', 'i', ' ', 'A', 'm', 'a', 'r', ' ', 'R', 'a', 'n', 'j', 'u', 'J', 'a', 's', 'v', 'e', 'e', ' ', ' ', 'A', 'd', 'i', 't', 'h', 'r', 'i', ' ', 'A', 'm', 'a', 'r', ' ', 'R', 'a', 'n', 'j', 'u', 'J', 'a', 's', 'v', 'e', 'e', ' ', ' ', 'A', 'd', 'i', 't', 'h', 'r', 'i', ' ', 'A', 'm', 'a', 'r', ' ', 'R', 'a', 'n', 'j', 'u', 'J', 'a', 's', 'v', 'e', 'e', ' ', ' ', 'A', 'd', 'i', 't', 'h', 'r', 'i', ' ', 'A', 'm', 'a', 'r', ' ', 'R', 'a', 'n', 'j', 'u', 'J', 'a', 's', 'v', 'e', 'e', ' ', ' ', 'A', 'd', 'i', 't', 'h', 'r', 'i', ' ', 'A', 'm', 'a', 'r', ' ', 'R', 'a', 'n', 'j', 'u', 'J', 'a', 's', 'v', 'e', 'e', ' ', ' ', 'A', 'd', 'i', 't', 'h', 'r', 'i', ' ', 'A', 'm', 'a', 'r', ' ', 'R', 'a', 'n', 'j', 'u', 'J', 'a', 's', 'v', 'e', 'e', ' ', ' ', 'A', 'd', 'i', 't', 'h', 'r', 'i', ' ', 'A', 'm', 'a', 'r', ' ', 'R', 'a', 'n', 'j', 'u', 'J', 'a', 's', 'v', 'e', 'e', ' ', ' ', 'A', 'd', 'i', 't', 'h', 'r', 'i', ' ', 'A', 'm', 'a', 'r', ' ', 'R', 'a', 'n', 'j', 'u', 'J', 'a', 's', 'v', 'e', 'e', ' ', ' ', 'A', 'd', 'i', 't', 'h', 'r', 'i', ' ', 'A', 'm', 'a', 'r', ' ', 'R', 'a', 'n', 'j', 'u']\n"
     ]
    }
   ],
   "source": [
    "#4.hold all the data into a single list\n",
    "lst1 = os.listdir()\n",
    "lst2=[]\n",
    "for i in lst1:\n",
    "    f=open(i,'r')\n",
    "    lst2.extend(f.read())\n",
    "    f.close()\n",
    "print(lst2)"
   ]
  },
  {
   "cell_type": "code",
   "execution_count": 125,
   "metadata": {},
   "outputs": [],
   "source": [
    "#5.write all the data in a new file(single file) from list\n",
    "f = open('Newfile.txt','w')\n",
    "for x in lst1:\n",
    "    f.write(x)\n",
    "f.close()"
   ]
  },
  {
   "cell_type": "code",
   "execution_count": 133,
   "metadata": {},
   "outputs": [],
   "source": [
    "##1.create a new directory\n",
    "#change directory\n",
    "os.chdir(\"D:\\\\\")"
   ]
  },
  {
   "cell_type": "code",
   "execution_count": 134,
   "metadata": {},
   "outputs": [],
   "source": [
    "#file already exixts dont create and if file not exist create a new one.\n",
    "import os \n",
    "if not os.path.isdir('taskfolder'):\n",
    "    os.mkdir('taskfolder')"
   ]
  },
  {
   "cell_type": "code",
   "execution_count": 138,
   "metadata": {},
   "outputs": [],
   "source": [
    "#change directory\n",
    "os.chdir(\"D:\\\\taskfolder\\\\\")"
   ]
  },
  {
   "cell_type": "code",
   "execution_count": 139,
   "metadata": {},
   "outputs": [],
   "source": [
    "#2.create 10 txt files and write same data or some string into all txt files at a time\n",
    "for i in range(10):\n",
    "    f = open('file'+str(i)+'.txt', 'w+')\n",
    "    f.write('file'+str(i)+'.txt')\n",
    "    f.close()\n"
   ]
  },
  {
   "cell_type": "code",
   "execution_count": 145,
   "metadata": {},
   "outputs": [
    {
     "name": "stdout",
     "output_type": "stream",
     "text": [
      "file0.txt\n",
      "file1.txt\n",
      "file2.txt\n",
      "file3.txt\n",
      "file4.txt\n",
      "file5.txt\n",
      "file6.txt\n",
      "file7.txt\n",
      "file8.txt\n",
      "file9.txt\n"
     ]
    }
   ],
   "source": [
    "#3.Read all the data from dir/file and print in the console\n",
    "lst = os.listdir()\n",
    "lst\n",
    "for i in lst:\n",
    "    f = open(i,'r')\n",
    "    print(f.read())\n",
    "    f.close()\n"
   ]
  },
  {
   "cell_type": "code",
   "execution_count": 147,
   "metadata": {},
   "outputs": [
    {
     "name": "stdout",
     "output_type": "stream",
     "text": [
      "['file0.txt', 'file1.txt', 'file2.txt', 'file3.txt', 'file4.txt', 'file5.txt', 'file6.txt', 'file7.txt', 'file8.txt', 'file9.txt']\n"
     ]
    }
   ],
   "source": [
    "#4.hold all the data into a single list\n",
    "#for i in range(10):\n",
    "    #data = []\n",
    "    #f =open('file'+str(i)+'.txt','r+')\n",
    "    #print(f.read())\n",
    "    #data.append(f.read())\n",
    "    #f.close()\n",
    "lst = os.listdir()\n",
    "lst\n",
    "readdata = []\n",
    "for i in lst:\n",
    "    f=open(i,'r')\n",
    "    readdata.append(f.read())\n",
    "    f.close()\n",
    "print(readdata)\n",
    "    "
   ]
  },
  {
   "cell_type": "code",
   "execution_count": 149,
   "metadata": {},
   "outputs": [],
   "source": [
    "#5.write all the data in a new file(single file) from list\n",
    "f = open('newfiletask.txt','w+')\n",
    "for i in readdata:\n",
    "    f.write(i+'\\n')\n",
    "f.close()"
   ]
  },
  {
   "cell_type": "code",
   "execution_count": 151,
   "metadata": {},
   "outputs": [],
   "source": [
    "#6.Keep only a new file in the directory and move rest in the new directory.\n",
    "import shutil\n",
    "curr_dir = os.getcwd()\n",
    "curr_dir\n",
    "for i in os.listdir(curr_dir):\n",
    "    if i is not 'newfiletask.txt':\n",
    "        shutil.move(i,'taskfolder')"
   ]
  }
 ],
 "metadata": {
  "kernelspec": {
   "display_name": "Python 3",
   "language": "python",
   "name": "python3"
  },
  "language_info": {
   "codemirror_mode": {
    "name": "ipython",
    "version": 3
   },
   "file_extension": ".py",
   "mimetype": "text/x-python",
   "name": "python",
   "nbconvert_exporter": "python",
   "pygments_lexer": "ipython3",
   "version": "3.7.4"
  }
 },
 "nbformat": 4,
 "nbformat_minor": 2
}
