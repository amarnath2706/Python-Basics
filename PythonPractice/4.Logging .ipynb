{
 "cells": [
  {
   "cell_type": "code",
   "execution_count": 1,
   "metadata": {},
   "outputs": [],
   "source": [
    "import logging as lg"
   ]
  },
  {
   "cell_type": "code",
   "execution_count": 2,
   "metadata": {},
   "outputs": [],
   "source": [
    "#Debug - Detailed inforamtion of each and every process\n",
    "#Info - Give some information to the user\n",
    "#Warning - give warning to the user\n",
    "#Error - Error\n",
    "#Critical - Critical error\n",
    "lg.basicConfig(filename='E:\\\\Logging\\\\test.log', level = lg.INFO)"
   ]
  },
  {
   "cell_type": "code",
   "execution_count": 3,
   "metadata": {},
   "outputs": [],
   "source": [
    "#Adding info\n",
    "lg.info(\"This is my first information\")"
   ]
  },
  {
   "cell_type": "code",
   "execution_count": 4,
   "metadata": {},
   "outputs": [],
   "source": [
    "#warning\n",
    "lg.warning(\"This is your first warning\")\n",
    "#error\n",
    "lg.error('This is my first error')"
   ]
  },
  {
   "cell_type": "code",
   "execution_count": 5,
   "metadata": {},
   "outputs": [],
   "source": [
    "#Adding time stamp\n",
    "lg.basicConfig(filename='E:\\\\Logging\\\\test.log', level = lg.INFO, format = '%(asctime)s %(message)s')"
   ]
  },
  {
   "cell_type": "code",
   "execution_count": 8,
   "metadata": {},
   "outputs": [],
   "source": [
    "lg.basicConfig(filename='E:\\\\Logging\\\\test1.log', level = lg.INFO, format = '%(asctime)s %(message)s')\n",
    "lg.info('Second Information')\n",
    "lg.warning('warning 2')\n",
    "lg.error('Error 2')"
   ]
  },
  {
   "cell_type": "code",
   "execution_count": 10,
   "metadata": {},
   "outputs": [],
   "source": [
    "import logging\n",
    "\n",
    "logging.basicConfig(filename='E:\\\\Logging\\\\app.log', filemode='w', format='%(name)s - %(levelname)s - %(message)s')\n",
    "logging.warning('This will get logged to a file')"
   ]
  },
  {
   "cell_type": "code",
   "execution_count": 14,
   "metadata": {},
   "outputs": [],
   "source": [
    "import logging\n",
    "\n",
    "logging.basicConfig(format='%(asctime)s - %(message)s', level=logging.INFO)\n",
    "logging.info('Admin logged in')\n"
   ]
  },
  {
   "cell_type": "code",
   "execution_count": 15,
   "metadata": {},
   "outputs": [
    {
     "data": {
      "text/plain": [
       "'E:\\\\Neuron\\\\Courses\\\\7.Full Stack'"
      ]
     },
     "execution_count": 15,
     "metadata": {},
     "output_type": "execute_result"
    }
   ],
   "source": [
    "pwd()"
   ]
  },
  {
   "cell_type": "code",
   "execution_count": 18,
   "metadata": {},
   "outputs": [],
   "source": [
    "os.chdir(\"E:\\\\Logging\\\\\")"
   ]
  },
  {
   "cell_type": "code",
   "execution_count": 19,
   "metadata": {},
   "outputs": [
    {
     "data": {
      "text/plain": [
       "'E:\\\\Logging'"
      ]
     },
     "execution_count": 19,
     "metadata": {},
     "output_type": "execute_result"
    }
   ],
   "source": [
    "pwd"
   ]
  },
  {
   "cell_type": "code",
   "execution_count": 20,
   "metadata": {},
   "outputs": [],
   "source": [
    "lg.basicConfig(filename='E:\\\\Logging\\\\test123.log', level = lg.INFO, format = '%(asctime)s %(message)s')\n",
    "lg.info('Second Information')\n",
    "lg.warning('warning 2')\n",
    "lg.error('Error 2')"
   ]
  },
  {
   "cell_type": "code",
   "execution_count": 22,
   "metadata": {},
   "outputs": [
    {
     "name": "stdout",
     "output_type": "stream",
     "text": [
      "Check your log for more details\n"
     ]
    }
   ],
   "source": [
    "def test(a,b):\n",
    "    try:\n",
    "        div = a/b\n",
    "        return div\n",
    "    except Exception as e:\n",
    "        print(\"Check your log for more details\")\n",
    "        lg.error(\"Error has occured\")\n",
    "        lg.exception(str(e))\n",
    "test(4,0)"
   ]
  },
  {
   "cell_type": "code",
   "execution_count": 23,
   "metadata": {},
   "outputs": [
    {
     "data": {
      "text/plain": [
       "26"
      ]
     },
     "execution_count": 23,
     "metadata": {},
     "output_type": "execute_result"
    }
   ],
   "source": [
    "import logging as lgg\n",
    "lgg.basicConfig(filename = 'E:\\\\Logging\\\\test123.log', level = lg.INFO, format = '%(asctime)s %(message)s')\n",
    "def sum(a,b):\n",
    "    lgg.info('Please provide your inputs')\n",
    "    lgg.info(str(a)+ ' ' +str(b))\n",
    "    return a+b\n",
    "sum(20,6)"
   ]
  },
  {
   "cell_type": "code",
   "execution_count": 26,
   "metadata": {},
   "outputs": [
    {
     "name": "stdout",
     "output_type": "stream",
     "text": [
      "INFO:root:This is my first information\n",
      "WARNING:root:This is your first warning\n",
      "ERROR:root:This is my first error\n",
      "INFO:root:Second Information\n",
      "INFO:root:Second Information\n",
      "WARNING:root:warning 2\n",
      "ERROR:root:Error 2\n",
      "INFO:root:Second Information\n",
      "WARNING:root:warning 2\n",
      "ERROR:root:Error 2\n",
      "WARNING:root:This will get logged to a file\n",
      "INFO:root:Admin logged in\n",
      "INFO:root:Second Information\n",
      "WARNING:root:warning 2\n",
      "ERROR:root:Error 2\n",
      "ERROR:root:Error has occured\n",
      "ERROR:root:Error has occured\n",
      "ERROR:root:division by zero\n",
      "Traceback (most recent call last):\n",
      "  File \"<ipython-input-22-82f8f257efff>\", line 3, in test\n",
      "    div = a/b\n",
      "ZeroDivisionError: division by zero\n",
      "INFO:root:Please provide your inputs\n",
      "INFO:root:20 6\n",
      "INFO:root:Please provide your inputs\n",
      "INFO:root:20 6\n",
      "INFO:root:Pls provide your inputs\n",
      "INFO:root:User Inputs : 27 and 20\n",
      "INFO:root:Pls provide your inputs\n",
      "INFO:root:User Inputs : 27 and 20\n",
      "\n"
     ]
    }
   ],
   "source": [
    "import logging as lgg\n",
    "lgg.basicConfig(filename = 'E:\\\\Logging\\\\test.log', level = lgg.INFO , format = '%(asctime)s %(message)s')\n",
    "def sum(a,b):\n",
    "    lgg.info('Pls provide your inputs')\n",
    "    lgg.info(\"User Inputs : \" + str(a) + ' and ' + str(b))\n",
    "    c = a+b\n",
    "    return c\n",
    "    lgg.info(c)\n",
    "sum(27,20)\n",
    "f = open(\"E:\\\\Logging\\\\test.log\",\"r\")\n",
    "print(f.read())"
   ]
  },
  {
   "cell_type": "code",
   "execution_count": 28,
   "metadata": {},
   "outputs": [
    {
     "name": "stdout",
     "output_type": "stream",
     "text": [
      "INFO:root:This is my first information\n",
      "WARNING:root:This is your first warning\n",
      "ERROR:root:This is my first error\n",
      "INFO:root:Second Information\n",
      "INFO:root:Second Information\n",
      "WARNING:root:warning 2\n",
      "ERROR:root:Error 2\n",
      "INFO:root:Second Information\n",
      "WARNING:root:warning 2\n",
      "ERROR:root:Error 2\n",
      "WARNING:root:This will get logged to a file\n",
      "INFO:root:Admin logged in\n",
      "INFO:root:Second Information\n",
      "WARNING:root:warning 2\n",
      "ERROR:root:Error 2\n",
      "ERROR:root:Error has occured\n",
      "ERROR:root:Error has occured\n",
      "ERROR:root:division by zero\n",
      "Traceback (most recent call last):\n",
      "  File \"<ipython-input-22-82f8f257efff>\", line 3, in test\n",
      "    div = a/b\n",
      "ZeroDivisionError: division by zero\n",
      "INFO:root:Please provide your inputs\n",
      "INFO:root:20 6\n",
      "INFO:root:Please provide your inputs\n",
      "INFO:root:20 6\n",
      "INFO:root:Pls provide your inputs\n",
      "INFO:root:User Inputs : 27 and 20\n",
      "INFO:root:Pls provide your inputs\n",
      "INFO:root:User Inputs : 27 and 20\n",
      "\n"
     ]
    },
    {
     "data": {
      "text/plain": [
       "12"
      ]
     },
     "execution_count": 28,
     "metadata": {},
     "output_type": "execute_result"
    }
   ],
   "source": [
    "import logging as lg1\n",
    "lg1.basicConfig(filename='E:\\\\Logging\\\\test.log',level=lg1.INFO)\n",
    "def addition(*args):\n",
    "   \n",
    "    lg1.info(\"This is my addition function\")   \n",
    "    sum1=0\n",
    "    for i in args:\n",
    "        lg1.info(str(i)) \n",
    "        sum1=sum1+i\n",
    "    return sum1\n",
    "\n",
    "\n",
    "f = open(\"E:\\\\Logging\\\\test.log\", \"r\")\n",
    "print(f.read())\n",
    "addition(3,4,5)"
   ]
  },
  {
   "cell_type": "code",
   "execution_count": 29,
   "metadata": {},
   "outputs": [],
   "source": [
    "import logging as lg2\n",
    "lg2.basicConfig(filename = 'E:\\\\Logging\\\\test.log', level = lg.DEBUG, format = '%(asctime)s %(levelname)s %(message)s')"
   ]
  },
  {
   "cell_type": "code",
   "execution_count": 30,
   "metadata": {},
   "outputs": [],
   "source": [
    "console_log = lg2.StreamHandler()\n",
    "console_log.setLevel(lg2.INFO)"
   ]
  },
  {
   "cell_type": "code",
   "execution_count": 31,
   "metadata": {},
   "outputs": [],
   "source": [
    "format = '%(asctime)s %(levelname)s %(message)s'"
   ]
  },
  {
   "cell_type": "code",
   "execution_count": 32,
   "metadata": {},
   "outputs": [],
   "source": [
    "console_log.setFormatter(format)"
   ]
  },
  {
   "cell_type": "code",
   "execution_count": 33,
   "metadata": {},
   "outputs": [],
   "source": [
    "lg2.getLogger('').addHandler(console_log)"
   ]
  },
  {
   "cell_type": "code",
   "execution_count": 34,
   "metadata": {},
   "outputs": [
    {
     "name": "stderr",
     "output_type": "stream",
     "text": [
      "%(asctime)s %(levelname)s %(message)s\n"
     ]
    }
   ],
   "source": [
    "lg2.info('this is my first code')"
   ]
  },
  {
   "cell_type": "code",
   "execution_count": 35,
   "metadata": {},
   "outputs": [],
   "source": [
    "logger1 = lg2.getLogger('logger1.area1')\n",
    "logger2 = lg2.getLogger('logger2.area2')"
   ]
  },
  {
   "cell_type": "code",
   "execution_count": 36,
   "metadata": {},
   "outputs": [
    {
     "name": "stderr",
     "output_type": "stream",
     "text": [
      "%(asctime)s %(levelname)s %(message)s\n",
      "%(asctime)s %(levelname)s %(message)s\n"
     ]
    }
   ],
   "source": [
    "logger1.info('Info for logger one')\n",
    "logger2.debug('debug for logger two')\n",
    "logger2.info('Info for logger two')\n"
   ]
  },
  {
   "cell_type": "code",
   "execution_count": 37,
   "metadata": {},
   "outputs": [
    {
     "name": "stderr",
     "output_type": "stream",
     "text": [
      "%(asctime)s %(levelname)s %(message)s\n",
      "root - 2021-08-09 12:31:01,652 - INFO - main log\n",
      "%(asctime)s %(levelname)s %(message)s\n",
      "user1 - 2021-08-09 12:31:01,657 - INFO - this is from user1 info\n"
     ]
    }
   ],
   "source": [
    "# logging_example.py\n",
    "\n",
    "import logging\n",
    "\n",
    "logging.basicConfig(filename='app1.log',level=logging.DEBUG,format = '%(name)s - %(asctime)s - %(levelname)s - %(message)s')\n",
    "\n",
    "# Create handlers\n",
    "console_log = logging.StreamHandler()\n",
    "console_log.setLevel(logging.DEBUG)\n",
    "format = logging.Formatter('%(name)s - %(asctime)s - %(levelname)s - %(message)s')\n",
    "console_log.setFormatter(format)\n",
    "# Create a custom logger\n",
    "logging.getLogger('').addHandler(console_log)\n",
    "logging.info('main log')\n",
    "logger1 = logging.getLogger('user1')\n",
    "logger2 = logging.getLogger('user2')\n",
    "logger1.info('this is from user1 info')\n",
    "logger2.debug('This is from user2 debug')"
   ]
  },
  {
   "cell_type": "code",
   "execution_count": null,
   "metadata": {},
   "outputs": [],
   "source": []
  }
 ],
 "metadata": {
  "kernelspec": {
   "display_name": "Python 3",
   "language": "python",
   "name": "python3"
  },
  "language_info": {
   "codemirror_mode": {
    "name": "ipython",
    "version": 3
   },
   "file_extension": ".py",
   "mimetype": "text/x-python",
   "name": "python",
   "nbconvert_exporter": "python",
   "pygments_lexer": "ipython3",
   "version": "3.7.4"
  }
 },
 "nbformat": 4,
 "nbformat_minor": 2
}
