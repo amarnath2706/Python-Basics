{
 "cells": [
  {
   "cell_type": "code",
   "execution_count": 1,
   "metadata": {},
   "outputs": [
    {
     "data": {
      "text/plain": [
       "<__main__.car at 0x1c8dac3c688>"
      ]
     },
     "execution_count": 1,
     "metadata": {},
     "output_type": "execute_result"
    }
   ],
   "source": [
    "class car:\n",
    "    pass\n",
    "q7 = car()\n",
    "q7"
   ]
  },
  {
   "cell_type": "code",
   "execution_count": 2,
   "metadata": {},
   "outputs": [
    {
     "data": {
      "text/plain": [
       "2012"
      ]
     },
     "execution_count": 2,
     "metadata": {},
     "output_type": "execute_result"
    }
   ],
   "source": [
    "q7.model = 2012\n",
    "q7.engine = 'diesel'\n",
    "q7.mileage = 15\n",
    "\n",
    "q7.model"
   ]
  },
  {
   "cell_type": "code",
   "execution_count": 3,
   "metadata": {},
   "outputs": [
    {
     "data": {
      "text/plain": [
       "'diesel'"
      ]
     },
     "execution_count": 3,
     "metadata": {},
     "output_type": "execute_result"
    }
   ],
   "source": [
    "q7.engine"
   ]
  },
  {
   "cell_type": "code",
   "execution_count": 5,
   "metadata": {},
   "outputs": [
    {
     "data": {
      "text/plain": [
       "(2020,)"
      ]
     },
     "execution_count": 5,
     "metadata": {},
     "output_type": "execute_result"
    }
   ],
   "source": [
    "#Good Practice\n",
    "class car1:\n",
    "    def __init__(self,model,engine,mileage):\n",
    "        self.model = model,\n",
    "        self.engine = engine,\n",
    "        self.mileage = mileage,\n",
    "Altroz = car1(2020,'ITurbo - Petrol',21)\n",
    "Nexon = car1(2021,'Diesel',20)\n",
    "Altroz.model\n"
   ]
  },
  {
   "cell_type": "code",
   "execution_count": 12,
   "metadata": {},
   "outputs": [],
   "source": [
    "class car2:\n",
    "    def __init__(self,make,model,variant,price,year,mil):\n",
    "        self.make = make,\n",
    "        self.model = model,\n",
    "        self.variant = variant,\n",
    "        self.price = price,\n",
    "        self.year = year,\n",
    "        self.mil = mil\n",
    "        \n",
    "    def age(self,curyear):\n",
    "        return curyear-self.year\n",
    "    \n",
    "    def mileage(self):\n",
    "        return 'Mileage of {} {} is : {}'.format(self.make,self.model,self.mil)\n",
    "        \n",
    "A = car2('Tata','Altroz','XZ+','10L',2020,22)\n",
    "H = car2('Hyundai','I20','Asta','12L',2020,19)\n",
    "\n",
    "\n",
    "\n",
    "        "
   ]
  },
  {
   "cell_type": "code",
   "execution_count": 13,
   "metadata": {},
   "outputs": [
    {
     "data": {
      "text/plain": [
       "\"Mileage of ('Tata',) ('Altroz',) is : 22\""
      ]
     },
     "execution_count": 13,
     "metadata": {},
     "output_type": "execute_result"
    }
   ],
   "source": [
    "A.mileage()"
   ]
  },
  {
   "cell_type": "code",
   "execution_count": 14,
   "metadata": {},
   "outputs": [
    {
     "data": {
      "text/plain": [
       "21"
      ]
     },
     "execution_count": 14,
     "metadata": {},
     "output_type": "execute_result"
    }
   ],
   "source": [
    "#Abstraction - Protect your variables, protecting your methods \n",
    "class Test:\n",
    "    def __init__(self,a,b,c,d):\n",
    "        self.a = a,\n",
    "        self.b = b,\n",
    "        self.c = c,\n",
    "        #protected variable (_d) - outside the class iam able to access.\n",
    "        self._d = d\n",
    "    def cus_fn(self,e):\n",
    "        return e - self._d\n",
    "    \n",
    "T = Test(27,20,6,4)\n",
    "T.cus_fn(25)"
   ]
  },
  {
   "cell_type": "code",
   "execution_count": 15,
   "metadata": {},
   "outputs": [
    {
     "data": {
      "text/plain": [
       "4"
      ]
     },
     "execution_count": 15,
     "metadata": {},
     "output_type": "execute_result"
    }
   ],
   "source": [
    "T._d"
   ]
  },
  {
   "cell_type": "code",
   "execution_count": 16,
   "metadata": {},
   "outputs": [
    {
     "data": {
      "text/plain": [
       "21"
      ]
     },
     "execution_count": 16,
     "metadata": {},
     "output_type": "execute_result"
    }
   ],
   "source": [
    "class Test1:\n",
    "    def __init__(self,a,b,c,d):\n",
    "        self.a = a,\n",
    "        self.b = b,\n",
    "        self.c = c,\n",
    "        #private variable - outside the class iam able to access.\n",
    "        #(__d) double underscore (private) : when we try to access the variable outside the class it throws an error\n",
    "        self.__d = d\n",
    "    def cus_fn(self,e):\n",
    "        return e - self.__d\n",
    "    \n",
    "T1 = Test1(27,20,6,4)\n",
    "T1.cus_fn(25)"
   ]
  },
  {
   "cell_type": "code",
   "execution_count": 20,
   "metadata": {},
   "outputs": [],
   "source": [
    "#If it is a private varibale we cant access the variable outside of the class\n",
    "#T1.__d"
   ]
  },
  {
   "cell_type": "code",
   "execution_count": 19,
   "metadata": {},
   "outputs": [
    {
     "data": {
      "text/plain": [
       "4"
      ]
     },
     "execution_count": 19,
     "metadata": {},
     "output_type": "execute_result"
    }
   ],
   "source": [
    "#By default abstraction concepts are not applied in the python\n",
    "#inorder to call the variable\n",
    "T1._Test1__d"
   ]
  },
  {
   "cell_type": "code",
   "execution_count": 34,
   "metadata": {},
   "outputs": [],
   "source": [
    "#Inheritance\n",
    "#reutilize the work that we have done previously(inherit the methods or variables from parent to child class)\n",
    "class Test2(car2):\n",
    "    #*args - it takes any number of arguments, in our parent class we have 4 arguments we need to inherit all of those arguments from the parent class to the child class.\n",
    "    #super - It is a kind of function available in python - that helps to access the __init__ method in the parent class.\n",
    "    #inside the super function i have written test2 - which basically means super of Test2 (parent) is whom -  it is a car2 class.\n",
    "    #__init__(*args) - it access all the variable in the parent class to the child class\n",
    "    \n",
    "    def __init__(self,e,*args):\n",
    "        super(Test2,self).__init__(*args)\n",
    "        self.e = e\n",
    "        \n",
    "T2 = Test2('Tata','Altroz','XZ+','10L',2020,20,'Hi')\n",
    "\n",
    "\n",
    "    "
   ]
  },
  {
   "cell_type": "code",
   "execution_count": 35,
   "metadata": {},
   "outputs": [
    {
     "name": "stdout",
     "output_type": "stream",
     "text": [
      "Contact us at : www.jasvee.com\n"
     ]
    }
   ],
   "source": [
    "#Another way - Single Inheritance\n",
    "class Jasvee:\n",
    "    company_website = 'www.jasvee.com'\n",
    "    name = 'Jasvee movers'\n",
    "    \n",
    "    def contact_details(self):\n",
    "        print(\"Contact us at : {}\".format(self.company_website))\n",
    "class Amar(Jasvee):\n",
    "    def __init__(self):\n",
    "        self.since = 2018\n",
    "        \n",
    "    def since_details(self):\n",
    "        print(\"{} company was established in the year {}\".format(self.name,self.since))\n",
    "\n",
    "A = Amar()\n",
    "A.contact_details()\n",
    "    "
   ]
  },
  {
   "cell_type": "code",
   "execution_count": 36,
   "metadata": {},
   "outputs": [
    {
     "name": "stdout",
     "output_type": "stream",
     "text": [
      "Jasvee movers company was established in the year 2018\n"
     ]
    }
   ],
   "source": [
    "A.since_details()"
   ]
  },
  {
   "cell_type": "code",
   "execution_count": 37,
   "metadata": {},
   "outputs": [
    {
     "name": "stdout",
     "output_type": "stream",
     "text": [
      "Residing in the city : Trichy\n",
      "Company Name : Jasvee movers\n"
     ]
    }
   ],
   "source": [
    "#Multiple Inheritance possible in the python - without super class we can implement\n",
    "class location_details:\n",
    "    city = 'Trichy'\n",
    "    pincode = '621010'\n",
    "    \n",
    "class Timings(location_details,Jasvee):\n",
    "    def __init__(self):\n",
    "        #if self.city == 'Chennai':\n",
    "        if self.city == 'Trichy':\n",
    "            print(\"Residing in the city : {}\".format(self.city))\n",
    "        print(\"Company Name : {}\".format(self.name))\n",
    "T = Timings()"
   ]
  },
  {
   "cell_type": "code",
   "execution_count": 38,
   "metadata": {},
   "outputs": [
    {
     "name": "stdout",
     "output_type": "stream",
     "text": [
      "Srinivasa Illam house has the elder member : Dhina and it has the total number of people : 5\n"
     ]
    }
   ],
   "source": [
    "#Multilevel inheritance\n",
    "class ARJ:\n",
    "    num_of_members = 5\n",
    "class SD(ARJ):\n",
    "    elder_member = \"Dhina\"\n",
    "    \n",
    "class ARJSD(SD):\n",
    "    def __init__(self):\n",
    "        self.house_name = \"Srinivasa Illam\"\n",
    "        print(\"{} house has the elder member : {} and it has the total number of people : {}\".format(self.house_name,self.elder_member,self.num_of_members))\n",
    "a = ARJSD()"
   ]
  },
  {
   "cell_type": "code",
   "execution_count": 39,
   "metadata": {},
   "outputs": [
    {
     "name": "stdout",
     "output_type": "stream",
     "text": [
      "Car Details:\n",
      "1.Tyres Details: \n",
      "a.Brand : Michellin\n",
      "b.Pressure : 42\n",
      "c.Durability : Very long\n",
      "d.Thickness : Very Thick\n",
      "\n",
      "2.Engine Details: \n",
      "a.Fuel Type : Diesel\n",
      "b.Noise Level: Smooth\n",
      "\n",
      "3.Body Details: \n",
      "a.Body Size : Medium\n",
      "\n",
      "\n"
     ]
    }
   ],
   "source": [
    "#Encapsulation - Even in encapsulation i can reutilize, but in a little different way \n",
    "#Hide the implementation and dont know the implementation inside the function\n",
    "#Create a classes and its variables and i will not show the actual implementation.\n",
    "#Encapsulation\n",
    "class Tyres:\n",
    "    def __init__(self,brand,pressure,durability,thickness):\n",
    "        self.brand = brand\n",
    "        self.pressure = pressure\n",
    "        self.durability = durability\n",
    "        self.thickness = thickness\n",
    "    def __str__(self):\n",
    "        return(\"\\na.Brand : {}\\nb.Pressure : {}\\nc.Durability : {}\\nd.Thickness : {}\\n\".format(self.brand,self.pressure,self.durability,self.thickness))\n",
    "class Engine:\n",
    "    def __init__(self,fuel_type,noise_level):\n",
    "        self.fuel_type = fuel_type\n",
    "        self.noise_level = noise_level\n",
    "    def __str__(self):\n",
    "        return(\"\\na.Fuel Type : {}\\nb.Noise Level: {}\\n\".format(self.fuel_type,self.noise_level))\n",
    "class Body:\n",
    "    def __init__(self,size):\n",
    "        self.size = size\n",
    "    def __str__(self):\n",
    "        return(\"\\na.Body Size : {}\\n\".format(self.size))\n",
    "class Car:\n",
    "    def __init__(self,tyres,engine,body):\n",
    "        self.tyres = tyres\n",
    "        self.engine = engine\n",
    "        self.body = body \n",
    "    def __str__(self):\n",
    "        return (\"Car Details:\\n1.Tyres Details: {}\\n2.Engine Details: {}\\n3.Body Details: {}\\n\".format(self.tyres,self.engine,self.body))\n",
    "T = Tyres(\"Michellin\",\"42\",\"Very long\",\"Very Thick\")\n",
    "E = Engine(\"Diesel\",'Smooth')\n",
    "B = Body(\"Medium\")\n",
    "C = Car(T,E,B)\n",
    "print(C)\n",
    "#car class is automatically call the object of the tyre,engine and body class."
   ]
  },
  {
   "cell_type": "code",
   "execution_count": 40,
   "metadata": {},
   "outputs": [],
   "source": [
    "#Encapsulation example - print fn (inside the fn they had implemnted value, sep='' and ends='\\n') and also i can ovrride the print functions as we want.\n"
   ]
  },
  {
   "cell_type": "code",
   "execution_count": 41,
   "metadata": {},
   "outputs": [
    {
     "name": "stdout",
     "output_type": "stream",
     "text": [
      "4\n",
      "jasveeAdithri\n",
      "[1, 2, 3, 4, 5, 6]\n"
     ]
    }
   ],
   "source": [
    "#Polymorphism - same entity but behaviour will change based on the circumstances\n",
    "#multiple forms but object is going to same\n",
    "def test(a,b):\n",
    "    return a + b\n",
    "print(test(2,2))\n",
    "print(test('jasvee','Adithri'))\n",
    "print(test([1,2,3],[4,5,6]))"
   ]
  },
  {
   "cell_type": "code",
   "execution_count": null,
   "metadata": {},
   "outputs": [],
   "source": []
  }
 ],
 "metadata": {
  "kernelspec": {
   "display_name": "Python 3",
   "language": "python",
   "name": "python3"
  },
  "language_info": {
   "codemirror_mode": {
    "name": "ipython",
    "version": 3
   },
   "file_extension": ".py",
   "mimetype": "text/x-python",
   "name": "python",
   "nbconvert_exporter": "python",
   "pygments_lexer": "ipython3",
   "version": "3.7.4"
  }
 },
 "nbformat": 4,
 "nbformat_minor": 2
}
